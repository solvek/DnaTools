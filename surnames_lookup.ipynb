{
 "cells": [
  {
   "cell_type": "markdown",
   "id": "9fdf784c-e8b3-49d8-926a-9d1748974e08",
   "metadata": {},
   "source": [
    "Підключаєм sqlite"
   ]
  },
  {
   "cell_type": "code",
   "execution_count": 6,
   "id": "366f0d02-3d6f-48a9-ba12-a54af3f9788e",
   "metadata": {},
   "outputs": [],
   "source": [
    "import sqlite3\n",
    "\n",
    "conn = sqlite3.connect('solvek.db')"
   ]
  },
  {
   "cell_type": "code",
   "execution_count": null,
   "id": "a6ad8953-41dd-4e8e-822e-904a6c8f8dff",
   "metadata": {},
   "outputs": [],
   "source": []
  }
 ],
 "metadata": {
  "kernelspec": {
   "display_name": "Python 3 (ipykernel)",
   "language": "python",
   "name": "python3"
  },
  "language_info": {
   "codemirror_mode": {
    "name": "ipython",
    "version": 3
   },
   "file_extension": ".py",
   "mimetype": "text/x-python",
   "name": "python",
   "nbconvert_exporter": "python",
   "pygments_lexer": "ipython3",
   "version": "3.9.12"
  }
 },
 "nbformat": 4,
 "nbformat_minor": 5
}
