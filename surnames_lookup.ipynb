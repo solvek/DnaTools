{
 "cells": [
  {
   "cell_type": "markdown",
   "id": "22d4d175-8d3d-4854-9cc1-3248bcf74c43",
   "metadata": {},
   "source": [
    "# Підготовка даних\n",
    "\n",
    "## Файл csv із збігами та їх прізвищами\n",
    "\n",
    "Мають бути такі колонки\n",
    "\n",
    "- surname - прізвище предка збіженця. У чоловічому роді, українською мовою\n",
    "- name - ім'я збіженця\n",
    "- cm - число, спільна днк в сантиморганах\n",
    "- url - покликання на збіженця"
   ]
  },
  {
   "cell_type": "markdown",
   "id": "9cca8251-0e7c-4a0e-bd42-b5ef10bb11e1",
   "metadata": {},
   "source": [
    "# Параметри"
   ]
  },
  {
   "cell_type": "code",
   "execution_count": 2,
   "id": "7cc11b0e-3ea5-4e37-a6e5-64c8457b5191",
   "metadata": {},
   "outputs": [],
   "source": [
    "# Всі необхідні файли потрібно покласи у цей каталог\n",
    "directory = \"data\"\n",
    "\n",
    "# Файл із збіженцями та прізвищами їх предків\n",
    "input_matches = \"matches.csv\""
   ]
  },
  {
   "cell_type": "markdown",
   "id": "9fdf784c-e8b3-49d8-926a-9d1748974e08",
   "metadata": {},
   "source": [
    "# Відкриваємо вхідний файл із збіженцями прізвищами їх предків та базу даних"
   ]
  },
  {
   "cell_type": "code",
   "execution_count": 8,
   "id": "366f0d02-3d6f-48a9-ba12-a54af3f9788e",
   "metadata": {},
   "outputs": [],
   "source": [
    "import sqlite3\n",
    "\n",
    "db = sqlite3.connect(f'{directory}/surnames.db')"
   ]
  },
  {
   "cell_type": "code",
   "execution_count": 6,
   "id": "a6ad8953-41dd-4e8e-822e-904a6c8f8dff",
   "metadata": {},
   "outputs": [],
   "source": [
    "import pandas as pd\n",
    "matches_df = pd.read_csv(f'{directory}/matches.csv')"
   ]
  },
  {
   "cell_type": "code",
   "execution_count": 5,
   "id": "6bce709f-435d-46d7-b371-04b8fda8ead8",
   "metadata": {},
   "outputs": [
    {
     "data": {
      "text/html": [
       "<div>\n",
       "<style scoped>\n",
       "    .dataframe tbody tr th:only-of-type {\n",
       "        vertical-align: middle;\n",
       "    }\n",
       "\n",
       "    .dataframe tbody tr th {\n",
       "        vertical-align: top;\n",
       "    }\n",
       "\n",
       "    .dataframe thead th {\n",
       "        text-align: right;\n",
       "    }\n",
       "</style>\n",
       "<table border=\"1\" class=\"dataframe\">\n",
       "  <thead>\n",
       "    <tr style=\"text-align: right;\">\n",
       "      <th></th>\n",
       "      <th>surname</th>\n",
       "      <th>group</th>\n",
       "      <th>name</th>\n",
       "      <th>cm</th>\n",
       "      <th>url</th>\n",
       "    </tr>\n",
       "  </thead>\n",
       "  <tbody>\n",
       "    <tr>\n",
       "      <th>0</th>\n",
       "      <td>Шиліпук</td>\n",
       "      <td>NaN</td>\n",
       "      <td>Olya Shylipuk</td>\n",
       "      <td>41.7</td>\n",
       "      <td>https://www.myheritage.com.ua/dna/match/D-FE4A...</td>\n",
       "    </tr>\n",
       "    <tr>\n",
       "      <th>1</th>\n",
       "      <td>Барчук</td>\n",
       "      <td>NaN</td>\n",
       "      <td>Olya Shylipuk</td>\n",
       "      <td>41.7</td>\n",
       "      <td>https://www.myheritage.com.ua/dna/match/D-FE4A...</td>\n",
       "    </tr>\n",
       "    <tr>\n",
       "      <th>2</th>\n",
       "      <td>Шмаленко</td>\n",
       "      <td>NaN</td>\n",
       "      <td>Inna Shmalenko</td>\n",
       "      <td>40.5</td>\n",
       "      <td>https://www.myheritage.com.ua/dna/match/D-FE4A...</td>\n",
       "    </tr>\n",
       "    <tr>\n",
       "      <th>3</th>\n",
       "      <td>Купчик</td>\n",
       "      <td>NaN</td>\n",
       "      <td>Inna Shmalenko</td>\n",
       "      <td>40.5</td>\n",
       "      <td>https://www.myheritage.com.ua/dna/match/D-FE4A...</td>\n",
       "    </tr>\n",
       "    <tr>\n",
       "      <th>4</th>\n",
       "      <td>Полікарпенко</td>\n",
       "      <td>NaN</td>\n",
       "      <td>Александр Поликаренко</td>\n",
       "      <td>37.7</td>\n",
       "      <td>https://www.myheritage.com.ua/dna/match/D-FE4A...</td>\n",
       "    </tr>\n",
       "    <tr>\n",
       "      <th>...</th>\n",
       "      <td>...</td>\n",
       "      <td>...</td>\n",
       "      <td>...</td>\n",
       "      <td>...</td>\n",
       "      <td>...</td>\n",
       "    </tr>\n",
       "    <tr>\n",
       "      <th>102</th>\n",
       "      <td>Лащук</td>\n",
       "      <td>NaN</td>\n",
       "      <td>John Michalchuk</td>\n",
       "      <td>24.2</td>\n",
       "      <td>https://www.myheritage.com.ua/dna/match/D-FE4A...</td>\n",
       "    </tr>\n",
       "    <tr>\n",
       "      <th>103</th>\n",
       "      <td>Буз</td>\n",
       "      <td>M</td>\n",
       "      <td>Natalia Kardash</td>\n",
       "      <td>24.1</td>\n",
       "      <td>https://www.myheritage.com.ua/dna/match/D-FE4A...</td>\n",
       "    </tr>\n",
       "    <tr>\n",
       "      <th>104</th>\n",
       "      <td>Солодуха</td>\n",
       "      <td>M</td>\n",
       "      <td>Natalia Kardash</td>\n",
       "      <td>24.1</td>\n",
       "      <td>https://www.myheritage.com.ua/dna/match/D-FE4A...</td>\n",
       "    </tr>\n",
       "    <tr>\n",
       "      <th>105</th>\n",
       "      <td>Оселедько</td>\n",
       "      <td>NaN</td>\n",
       "      <td>Oksana Baškė</td>\n",
       "      <td>24.1</td>\n",
       "      <td>https://www.myheritage.com.ua/dna/match/D-FE4A...</td>\n",
       "    </tr>\n",
       "    <tr>\n",
       "      <th>106</th>\n",
       "      <td>Ліхадзед</td>\n",
       "      <td>NaN</td>\n",
       "      <td>Vitali Likhadzed</td>\n",
       "      <td>23.9</td>\n",
       "      <td>https://www.myheritage.com.ua/dna/match/D-FE4A...</td>\n",
       "    </tr>\n",
       "  </tbody>\n",
       "</table>\n",
       "<p>107 rows × 5 columns</p>\n",
       "</div>"
      ],
      "text/plain": [
       "          surname group                   name    cm  \\\n",
       "0         Шиліпук   NaN          Olya Shylipuk  41.7   \n",
       "1          Барчук   NaN          Olya Shylipuk  41.7   \n",
       "2        Шмаленко   NaN         Inna Shmalenko  40.5   \n",
       "3          Купчик   NaN         Inna Shmalenko  40.5   \n",
       "4    Полікарпенко   NaN  Александр Поликаренко  37.7   \n",
       "..            ...   ...                    ...   ...   \n",
       "102         Лащук   NaN        John Michalchuk  24.2   \n",
       "103           Буз     M        Natalia Kardash  24.1   \n",
       "104      Солодуха     M        Natalia Kardash  24.1   \n",
       "105     Оселедько   NaN           Oksana Baškė  24.1   \n",
       "106      Ліхадзед   NaN       Vitali Likhadzed  23.9   \n",
       "\n",
       "                                                   url  \n",
       "0    https://www.myheritage.com.ua/dna/match/D-FE4A...  \n",
       "1    https://www.myheritage.com.ua/dna/match/D-FE4A...  \n",
       "2    https://www.myheritage.com.ua/dna/match/D-FE4A...  \n",
       "3    https://www.myheritage.com.ua/dna/match/D-FE4A...  \n",
       "4    https://www.myheritage.com.ua/dna/match/D-FE4A...  \n",
       "..                                                 ...  \n",
       "102  https://www.myheritage.com.ua/dna/match/D-FE4A...  \n",
       "103  https://www.myheritage.com.ua/dna/match/D-FE4A...  \n",
       "104  https://www.myheritage.com.ua/dna/match/D-FE4A...  \n",
       "105  https://www.myheritage.com.ua/dna/match/D-FE4A...  \n",
       "106  https://www.myheritage.com.ua/dna/match/D-FE4A...  \n",
       "\n",
       "[107 rows x 5 columns]"
      ]
     },
     "execution_count": 5,
     "metadata": {},
     "output_type": "execute_result"
    }
   ],
   "source": [
    "matches_df.groupby(\"url\")\n",
    "\n",
    "matches = {}\n",
    "for row in matches_df.itertuples(index=True, name='Pandas'):\n",
    "    print(getattr(row, \"Name\"), getattr(row, \"Percentage\"))"
   ]
  },
  {
   "cell_type": "code",
   "execution_count": 9,
   "id": "5e922c61-3e75-415b-9769-2faa415d2b6c",
   "metadata": {},
   "outputs": [
    {
     "data": {
      "text/plain": [
       "<pandas.core.groupby.generic.DataFrameGroupBy object at 0x7eaec1014400>"
      ]
     },
     "execution_count": 9,
     "metadata": {},
     "output_type": "execute_result"
    }
   ],
   "source": [
    "matches_df.groupby(\"url\")"
   ]
  }
 ],
 "metadata": {
  "kernelspec": {
   "display_name": "Python 3 (ipykernel)",
   "language": "python",
   "name": "python3"
  },
  "language_info": {
   "codemirror_mode": {
    "name": "ipython",
    "version": 3
   },
   "file_extension": ".py",
   "mimetype": "text/x-python",
   "name": "python",
   "nbconvert_exporter": "python",
   "pygments_lexer": "ipython3",
   "version": "3.9.12"
  }
 },
 "nbformat": 4,
 "nbformat_minor": 5
}
