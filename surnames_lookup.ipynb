{
 "cells": [
  {
   "cell_type": "markdown",
   "id": "22d4d175-8d3d-4854-9cc1-3248bcf74c43",
   "metadata": {},
   "source": [
    "# Підготовка даних\n",
    "\n",
    "## Файл csv із збігами та їх прізвищами\n",
    "\n",
    "Мають бути такі колонки\n",
    "\n",
    "- surname - прізвище предка збіженця. У чоловічому роді, українською мовою\n",
    "- name - ім'я збіженця\n",
    "- cm - число, спільна днк в сантиморганах\n",
    "- url - покликання на збіженця"
   ]
  },
  {
   "cell_type": "markdown",
   "id": "9cca8251-0e7c-4a0e-bd42-b5ef10bb11e1",
   "metadata": {},
   "source": [
    "# Параметри"
   ]
  },
  {
   "cell_type": "code",
   "execution_count": 3,
   "id": "7cc11b0e-3ea5-4e37-a6e5-64c8457b5191",
   "metadata": {},
   "outputs": [],
   "source": [
    "# Всі необхідні файли потрібно покласи у цей каталог\n",
    "directory = \"data\"\n",
    "\n",
    "# Файл із збіженцями та прізвищами їх предків\n",
    "filename = \"DNA Genealogy - Surnames_my\"\n",
    "\n",
    "multy = 1000"
   ]
  },
  {
   "cell_type": "markdown",
   "id": "9fdf784c-e8b3-49d8-926a-9d1748974e08",
   "metadata": {},
   "source": [
    "# Відкриваємо вхідний файл із збіженцями прізвищами їх предків та базу даних"
   ]
  },
  {
   "cell_type": "code",
   "execution_count": 4,
   "id": "366f0d02-3d6f-48a9-ba12-a54af3f9788e",
   "metadata": {},
   "outputs": [],
   "source": [
    "import sqlite3\n",
    "\n",
    "db = sqlite3.connect(f'{directory}/surnames.sqlite3')"
   ]
  },
  {
   "cell_type": "code",
   "execution_count": 3,
   "id": "a6ad8953-41dd-4e8e-822e-904a6c8f8dff",
   "metadata": {},
   "outputs": [
    {
     "data": {
      "text/html": [
       "<div>\n",
       "<style scoped>\n",
       "    .dataframe tbody tr th:only-of-type {\n",
       "        vertical-align: middle;\n",
       "    }\n",
       "\n",
       "    .dataframe tbody tr th {\n",
       "        vertical-align: top;\n",
       "    }\n",
       "\n",
       "    .dataframe thead th {\n",
       "        text-align: right;\n",
       "    }\n",
       "</style>\n",
       "<table border=\"1\" class=\"dataframe\">\n",
       "  <thead>\n",
       "    <tr style=\"text-align: right;\">\n",
       "      <th></th>\n",
       "      <th>surname</th>\n",
       "      <th>group</th>\n",
       "      <th>name</th>\n",
       "      <th>cm</th>\n",
       "      <th>url</th>\n",
       "    </tr>\n",
       "  </thead>\n",
       "  <tbody>\n",
       "    <tr>\n",
       "      <th>0</th>\n",
       "      <td>Шиліпук</td>\n",
       "      <td>NaN</td>\n",
       "      <td>Olya Shylipuk</td>\n",
       "      <td>41.7</td>\n",
       "      <td>https://www.myheritage.com.ua/dna/match/D-FE4A...</td>\n",
       "    </tr>\n",
       "    <tr>\n",
       "      <th>1</th>\n",
       "      <td>Бурчак</td>\n",
       "      <td>NaN</td>\n",
       "      <td>Olya Shylipuk</td>\n",
       "      <td>41.7</td>\n",
       "      <td>https://www.myheritage.com.ua/dna/match/D-FE4A...</td>\n",
       "    </tr>\n",
       "    <tr>\n",
       "      <th>2</th>\n",
       "      <td>Шмаленко</td>\n",
       "      <td>NaN</td>\n",
       "      <td>Inna Shmalenko</td>\n",
       "      <td>40.5</td>\n",
       "      <td>https://www.myheritage.com.ua/dna/match/D-FE4A...</td>\n",
       "    </tr>\n",
       "    <tr>\n",
       "      <th>3</th>\n",
       "      <td>Купчик</td>\n",
       "      <td>NaN</td>\n",
       "      <td>Inna Shmalenko</td>\n",
       "      <td>40.5</td>\n",
       "      <td>https://www.myheritage.com.ua/dna/match/D-FE4A...</td>\n",
       "    </tr>\n",
       "    <tr>\n",
       "      <th>4</th>\n",
       "      <td>Полікарпенко</td>\n",
       "      <td>NaN</td>\n",
       "      <td>Александр Поликаренко</td>\n",
       "      <td>37.7</td>\n",
       "      <td>https://www.myheritage.com.ua/dna/match/D-FE4A...</td>\n",
       "    </tr>\n",
       "    <tr>\n",
       "      <th>...</th>\n",
       "      <td>...</td>\n",
       "      <td>...</td>\n",
       "      <td>...</td>\n",
       "      <td>...</td>\n",
       "      <td>...</td>\n",
       "    </tr>\n",
       "    <tr>\n",
       "      <th>172</th>\n",
       "      <td>Філіпович</td>\n",
       "      <td>NaN</td>\n",
       "      <td>Олена Тихан</td>\n",
       "      <td>21.4</td>\n",
       "      <td>https://www.myheritage.com.ua/dna/match/D-FE4A...</td>\n",
       "    </tr>\n",
       "    <tr>\n",
       "      <th>173</th>\n",
       "      <td>Гетун</td>\n",
       "      <td>NaN</td>\n",
       "      <td>Настя Шкинь</td>\n",
       "      <td>21.4</td>\n",
       "      <td>https://www.myheritage.com.ua/dna/match/D-FE4A...</td>\n",
       "    </tr>\n",
       "    <tr>\n",
       "      <th>174</th>\n",
       "      <td>Шкінь</td>\n",
       "      <td>NaN</td>\n",
       "      <td>Настя Шкинь</td>\n",
       "      <td>21.4</td>\n",
       "      <td>https://www.myheritage.com.ua/dna/match/D-FE4A...</td>\n",
       "    </tr>\n",
       "    <tr>\n",
       "      <th>175</th>\n",
       "      <td>Тумаш</td>\n",
       "      <td>NaN</td>\n",
       "      <td>Альона Хвалько</td>\n",
       "      <td>21.3</td>\n",
       "      <td>https://www.myheritage.com.ua/dna/match/D-FE4A...</td>\n",
       "    </tr>\n",
       "    <tr>\n",
       "      <th>176</th>\n",
       "      <td>Хвалько</td>\n",
       "      <td>NaN</td>\n",
       "      <td>Альона Хвалько</td>\n",
       "      <td>21.3</td>\n",
       "      <td>https://www.myheritage.com.ua/dna/match/D-FE4A...</td>\n",
       "    </tr>\n",
       "  </tbody>\n",
       "</table>\n",
       "<p>177 rows × 5 columns</p>\n",
       "</div>"
      ],
      "text/plain": [
       "          surname group                   name    cm  \\\n",
       "0         Шиліпук   NaN          Olya Shylipuk  41.7   \n",
       "1          Бурчак   NaN          Olya Shylipuk  41.7   \n",
       "2        Шмаленко   NaN         Inna Shmalenko  40.5   \n",
       "3          Купчик   NaN         Inna Shmalenko  40.5   \n",
       "4    Полікарпенко   NaN  Александр Поликаренко  37.7   \n",
       "..            ...   ...                    ...   ...   \n",
       "172     Філіпович   NaN            Олена Тихан  21.4   \n",
       "173         Гетун   NaN            Настя Шкинь  21.4   \n",
       "174         Шкінь   NaN            Настя Шкинь  21.4   \n",
       "175         Тумаш   NaN         Альона Хвалько  21.3   \n",
       "176       Хвалько   NaN         Альона Хвалько  21.3   \n",
       "\n",
       "                                                   url  \n",
       "0    https://www.myheritage.com.ua/dna/match/D-FE4A...  \n",
       "1    https://www.myheritage.com.ua/dna/match/D-FE4A...  \n",
       "2    https://www.myheritage.com.ua/dna/match/D-FE4A...  \n",
       "3    https://www.myheritage.com.ua/dna/match/D-FE4A...  \n",
       "4    https://www.myheritage.com.ua/dna/match/D-FE4A...  \n",
       "..                                                 ...  \n",
       "172  https://www.myheritage.com.ua/dna/match/D-FE4A...  \n",
       "173  https://www.myheritage.com.ua/dna/match/D-FE4A...  \n",
       "174  https://www.myheritage.com.ua/dna/match/D-FE4A...  \n",
       "175  https://www.myheritage.com.ua/dna/match/D-FE4A...  \n",
       "176  https://www.myheritage.com.ua/dna/match/D-FE4A...  \n",
       "\n",
       "[177 rows x 5 columns]"
      ]
     },
     "execution_count": 3,
     "metadata": {},
     "output_type": "execute_result"
    }
   ],
   "source": [
    "import pandas as pd\n",
    "matches_df = pd.read_csv(f'{directory}/{filename}.csv')\n",
    "matches_df"
   ]
  },
  {
   "cell_type": "markdown",
   "id": "f2423e10-79e9-4aff-a114-40d5300e02bf",
   "metadata": {},
   "source": [
    "# Підготовка таблиць"
   ]
  },
  {
   "cell_type": "code",
   "execution_count": 5,
   "id": "d00bba2f-5410-4912-bd56-067fd2321134",
   "metadata": {},
   "outputs": [],
   "source": [
    "table_distribution = \"distribution\"\n",
    "table_raw = \"raw\"\n",
    "\n",
    "cursor = db.cursor()\n"
   ]
  },
  {
   "cell_type": "code",
   "execution_count": 5,
   "id": "2f3b4b27-1da1-4ad2-b810-04188bf40873",
   "metadata": {},
   "outputs": [
    {
     "data": {
      "text/plain": [
       "<sqlite3.Cursor at 0x733695416ce0>"
      ]
     },
     "execution_count": 5,
     "metadata": {},
     "output_type": "execute_result"
    }
   ],
   "source": [
    "cursor.execute(f'DROP TABLE IF EXISTS {table_distribution}')\n",
    "cursor.execute(\n",
    "    f'''\n",
    "    CREATE TABLE {table_distribution} (\n",
    "    \t\"region\"\tINTEGER NOT NULL,\n",
    "    \t\"county\"\tINTEGER NOT NULL,\n",
    "    \t\"city\"\tTEXT NOT NULL,\n",
    "    \t\"score\"\tREAL NOT NULL,\n",
    "    \tPRIMARY KEY(\"region\",\"county\",\"city\")\n",
    "    )\n",
    "    '''\n",
    ")"
   ]
  },
  {
   "cell_type": "code",
   "execution_count": 6,
   "id": "c1069c6b-892c-4f3c-8097-594416bc51ba",
   "metadata": {},
   "outputs": [
    {
     "data": {
      "text/plain": [
       "<sqlite3.Cursor at 0x733695416ce0>"
      ]
     },
     "execution_count": 6,
     "metadata": {},
     "output_type": "execute_result"
    }
   ],
   "source": [
    "cursor.execute(f'DROP TABLE IF EXISTS {table_raw}')\n",
    "cursor.execute(\n",
    "    f'''\n",
    "    CREATE TABLE \"{table_raw}\" (\n",
    "    \t\"surname\"\tINTEGER NOT NULL,\n",
    "    \t\"city\"\tTEXT NOT NULL,\n",
    "    \t\"county\"\tINTEGER NOT NULL,\n",
    "    \t\"region\"\tINTEGER NOT NULL,\n",
    "    \t\"cnt\"\tINTEGER NOT NULL,\n",
    "    \t\"match\"\tINTEGER NOT NULL,\n",
    "    \t\"url\"\tTEXT NOT NULL\n",
    "    );\n",
    "    '''\n",
    ")"
   ]
  },
  {
   "cell_type": "code",
   "execution_count": 7,
   "id": "dfe31c52-3d45-4a78-9773-fcb37ffeb081",
   "metadata": {},
   "outputs": [],
   "source": [
    "db.commit()"
   ]
  },
  {
   "cell_type": "markdown",
   "id": "9118a1d8-2e78-49fb-a92b-51c7e79db1c8",
   "metadata": {},
   "source": [
    "# Групування збіженців"
   ]
  },
  {
   "cell_type": "code",
   "execution_count": 8,
   "id": "5e922c61-3e75-415b-9769-2faa415d2b6c",
   "metadata": {},
   "outputs": [],
   "source": [
    "match_grouped = matches_df.groupby([\"url\", \"cm\", \"name\"]).surname"
   ]
  },
  {
   "cell_type": "code",
   "execution_count": 9,
   "id": "4ddea6d7-7a76-4c49-98bc-e6e1d774a669",
   "metadata": {},
   "outputs": [
    {
     "name": "stdout",
     "output_type": "stream",
     "text": [
      "Ганна Лиштван\n",
      "Анатолій Денисенко\n",
      "Марія Михайлюк\n",
      "John Michalchuk\n",
      "Садовий Данило\n",
      "Ser Roshko\n",
      "Олена Тихан\n",
      "Олеся Мазуркова\n",
      "Tatiana Slatvitskaya\n",
      "Olena Grybyk\n",
      "Vadym Kovadlo\n",
      "Alina Knysh\n",
      "Natalia Kardash\n",
      "Vladimir Oleshchuk\n",
      "Pavlo Yelizarov\n",
      "Ekaterina Buhl\n",
      "Lukasz Nikoniuk\n",
      "Olya Shylipuk\n",
      "Андрей Ваврыш\n",
      "Kelly Marceniuk\n",
      "Alla Mykolaienko\n",
      "Irina Jermolina\n",
      "Alessandra Frabizzio\n",
      "Svetlana Kletsova\n",
      "Aleksy Krawczenko\n",
      "Oxana Shevel\n",
      "Julija Lemeshenko\n",
      "Aliaksandra Turchak\n",
      "Сергей Борисович Обломский\n",
      "Maksym Chornopolsky\n",
      "Paul Donald Bodnarchuk\n",
      "Мирослава Стольницька\n",
      "Anna Tovstukha\n",
      "Mikhail Dubin\n",
      "Юра Федорчук\n",
      "Mykhalo Balaban\n",
      "Альона Хвалько\n",
      "Olga Saleh\n",
      "Svetlana Berg\n",
      "Nicole Laszuk\n",
      "Яніна Брензей\n",
      "Nicola C\n",
      "Tetiana Shvorobei\n",
      "Сергій Дмитрович Хватков\n",
      "Тетяна Челяда\n",
      "Oksana Baškė\n",
      "Artiom Zalizko\n",
      "Vira Kozyarovska\n",
      "Александр Поликаренко\n",
      "Ivan Ilnytskyi\n",
      "Vitali Likhadzed\n",
      "Мар'яна Булах\n",
      "Любов Шальнева\n",
      "Любов Шальнева\n",
      "Natalia Zhyronkina\n",
      "Оксана Побережник\n",
      "Zhanna Samaruk\n",
      "Алексей Ципинюк\n",
      "Inna Shmalenko\n",
      "Kozový Daniel\n",
      "Volodimir Nezheria\n",
      "Uladzislau Luchkouski\n",
      "Василь Капацина\n",
      "Marian Oksentiuk\n",
      "Anton Pokhyla\n",
      "Вера Чернова\n",
      "Евгений Митрофанов\n",
      "Elena Папа Kostochka\n",
      "Nataliia S.\n",
      "Olena Hrynyuk\n",
      "Bohdan Shkel\n",
      "Karyna Reida\n",
      "Sergiy Stepanskyy\n",
      "Nadya Berlin\n",
      "Настя Шкинь\n",
      "All records processed\n"
     ]
    }
   ],
   "source": [
    "for (url, cm, match), surnames in match_grouped:\n",
    "    print(match)\n",
    "    cm_float = float(cm)\n",
    "    str_surnames = \"','\".join(map(lambda t: t.upper(), surnames))\n",
    "    select = f'''\n",
    "        SELECT \n",
    "            COUNT(*) AS cn,\n",
    "        \t\"Областьнародження\" as region,\n",
    "        \tIFNULL(\"Районнародження\",0) as county,\n",
    "        \t\"Названаселеногопунктународження(Україна)\" as city,\n",
    "            \"Прізвищє\" as surname\n",
    "        FROM people \n",
    "        where \n",
    "        \t\"Прізвищє\" in ('{str_surnames}') \n",
    "        \tAND \"Стать\"=1 \n",
    "        \tAND \"Названаселеногопунктународження(Україна)\" IS NOT NULL \n",
    "        \tAND \"Областьнародження\" IS NOT NULL\n",
    "        GROUP BY region,\n",
    "        \tcounty,\n",
    "        \tcity,\n",
    "            surname\n",
    "    '''\n",
    "\n",
    "    def rec(row):\n",
    "        (cnt, region, county, city, surname) = row\n",
    "        return {\n",
    "            'surname': surname,\n",
    "            \"region\": region,\n",
    "            \"county\": county,\n",
    "            \"city\": city,\n",
    "            \"cnt\": cnt\n",
    "        }\n",
    "\n",
    "    cursor.execute(select)\n",
    "    res = list(map(rec, cursor.fetchall()))\n",
    "    total = 0\n",
    "    for t in res:\n",
    "        # print(t)\n",
    "        total = total + t[\"cnt\"]\n",
    "\n",
    "    def update_params(r):\n",
    "        score = (cm_float*r[\"cnt\"]*multy)/total\n",
    "        return (r[\"region\"], r[\"county\"], r[\"city\"], score, score)\n",
    "\n",
    "    def insert_raw_params(r):\n",
    "        return (r[\"surname\"], r[\"city\"], r[\"county\"], r[\"region\"], r[\"cnt\"], match, url)\n",
    "\n",
    "    cursor.executemany(\n",
    "        f'''\n",
    "        INSERT INTO {table_distribution}(region, county, city, score)\n",
    "          VALUES(?, ?, ?, ?)\n",
    "          ON CONFLICT(region, county, city) DO UPDATE SET\n",
    "            score=score+?;\n",
    "        ''',\n",
    "        list(map(update_params, res))\n",
    "    )\n",
    "\n",
    "    cursor.executemany(\n",
    "        f'''\n",
    "        INSERT INTO {table_raw}(surname, city, county, region, cnt, match, url)\n",
    "          VALUES(?, ?, ?, ?, ?, ?, ?)\n",
    "        ''',\n",
    "        list(map(insert_raw_params, res))\n",
    "    )\n",
    "    \n",
    "    db.commit()\n",
    "    # break\n",
    "\n",
    "print(\"All records processed\")\n",
    "    "
   ]
  },
  {
   "cell_type": "markdown",
   "id": "3688aaac-5755-49a6-b21a-67d3ddb3d444",
   "metadata": {},
   "source": [
    "# Створимо с"
   ]
  },
  {
   "cell_type": "code",
   "execution_count": 1,
   "id": "d1712957-14a4-435d-af01-46931cbabc73",
   "metadata": {},
   "outputs": [],
   "source": [
    "import xlsxwriter"
   ]
  },
  {
   "cell_type": "code",
   "execution_count": 6,
   "id": "d8e20152-740d-45c0-a24d-ffea393231e4",
   "metadata": {},
   "outputs": [],
   "source": [
    "import os, errno\n",
    "\n",
    "resfile = f'{directory}/{filename}.xlsx'\n",
    "try:\n",
    "    os.remove(filename)\n",
    "except OSError:\n",
    "    pass\n",
    "workbook = xlsxwriter.Workbook(resfile)"
   ]
  },
  {
   "cell_type": "code",
   "execution_count": 7,
   "id": "ad0006fe-33de-45a2-b0b0-332c8045292b",
   "metadata": {},
   "outputs": [],
   "source": [
    "def add_row(ws, rn, content, format = None):\n",
    "    for i, c in enumerate(content):\n",
    "        # print(f\"Write {c} to ({i},{rn})\")\n",
    "        ws.write(rn, i, c, format)"
   ]
  },
  {
   "cell_type": "code",
   "execution_count": 15,
   "id": "f49ce694-4033-439d-8a14-f3be81b9fac5",
   "metadata": {},
   "outputs": [],
   "source": [
    "header_format = workbook.add_format()\n",
    "header_format.set_bold()\n",
    "\n",
    "def add_sheet_sql(name, header, sql, width = None):\n",
    "    worksheet = workbook.add_worksheet(name)\n",
    "    # if width is not None:\n",
    "    #     for w in width:\n",
    "            \n",
    "    add_row(worksheet, 0, header, header_format)\n",
    "    cursor.execute(sql)\n",
    "    for i, row in enumerate(cursor.fetchall()):\n",
    "        add_row(worksheet, i+1, row)\n",
    "\n",
    "    worksheet.autofit()"
   ]
  },
  {
   "cell_type": "code",
   "execution_count": 17,
   "id": "cf016b6d-8299-4dd3-9b17-c1a345f076fb",
   "metadata": {},
   "outputs": [],
   "source": [
    "add_sheet_sql(\"Топ 100\", [\"Область\", \"Район\", \"НП\", \"Ранг\"], \n",
    "              '''\n",
    "            SELECT\n",
    "            \tIFNULL(r.name, d.region) AS region,\n",
    "            \tIFNULL(c.name, d.county) as county,\n",
    "            \tcity,\n",
    "            \td.score\n",
    "            FROM\t\n",
    "            \t(SELECT county, sum(score) AS score\n",
    "            \tFROM vw_distribution\n",
    "            \tGROUP BY county) g\n",
    "            INNER JOIN vw_distribution d ON g.county = d.county\n",
    "            INNER JOIN regions r ON d.region=r.id\n",
    "            LEFT JOIN counties c ON d.county=c.id\n",
    "            ORDER BY g.score DESC, d.score DESC          \n",
    "              '''\n",
    "             )"
   ]
  },
  {
   "cell_type": "code",
   "execution_count": 18,
   "id": "401fd8ad-961d-467c-8ddd-faf575bac092",
   "metadata": {},
   "outputs": [],
   "source": [
    "add_sheet_sql(\"Райони\", [\"Область\", \"Район\", \"Ранг\"], \n",
    "              '''\n",
    "            SELECT\n",
    "                IFNULL(r.name, d.region) as region,\n",
    "                IFNULL(c.name, d.county) as county,\n",
    "                d.score\n",
    "            FROM\n",
    "            (SELECT county, region, sum(score) as score\n",
    "            FROM distribution d\n",
    "            WHERE county > 0\n",
    "            GROUP BY county, region\n",
    "            ORDER BY sum(score) DESC) as d\n",
    "            LEFT JOIN counties as c ON d.county = c.id\n",
    "            LEFT JOIN regions as r on d.region = r.id   \n",
    "              '''\n",
    "             )"
   ]
  },
  {
   "cell_type": "code",
   "execution_count": 19,
   "id": "ba0c5a85-93f7-4e17-81b2-59e55727e91a",
   "metadata": {},
   "outputs": [],
   "source": [
    "add_sheet_sql(\"Області\", [\"Область\", \"Ранг\"], \n",
    "              '''\n",
    "            SELECT\n",
    "                IFNULL(r.name, d.region) as region,\n",
    "                d.score\n",
    "            FROM\n",
    "            (SELECT region, sum(score) as score\n",
    "            FROM distribution d\n",
    "            GROUP BY region\n",
    "            ORDER BY sum(score) DESC) as d\n",
    "            LEFT JOIN regions as r on d.region = r.id\n",
    "              '''\n",
    "             )"
   ]
  },
  {
   "cell_type": "code",
   "execution_count": 20,
   "id": "86bd4fde-8b0a-4c15-9b1e-005ddf276bf8",
   "metadata": {},
   "outputs": [],
   "source": [
    "add_sheet_sql(\"Всі Села\", [\"Область\", \"Район\", \"НП\", \"Ранг\"], \n",
    "              '''\n",
    "            SELECT\n",
    "                IFNULL(r.name, d.region) AS region,\n",
    "                IFNULL(c.name, d.county) as county,\n",
    "                city,\n",
    "                score\n",
    "            FROM distribution d\n",
    "            LEFT JOIN regions r ON d.region=r.id\n",
    "            LEFT JOIN counties c ON d.county=c.id\n",
    "            WHERE county > 0\n",
    "            ORDER by score DESC        \n",
    "              '''\n",
    "             )"
   ]
  },
  {
   "cell_type": "code",
   "execution_count": 21,
   "id": "955229c7-969b-4df1-bcb9-279b33a7bac1",
   "metadata": {},
   "outputs": [],
   "source": [
    "add_sheet_sql(\"Прізвища\", [\"Прізвище\", \"Область\", \"Район\", \"НП\", \"Кількість\", \"Збіг\", \"url\"], \n",
    "              '''\n",
    "            SELECT \n",
    "                surname,\n",
    "                IFNULL(r.name, d.region) as region,\n",
    "                IFNULL(c.name, d.county) as county,\n",
    "                d.city,\n",
    "                cnt,\n",
    "                match,\n",
    "                url\n",
    "            FROM raw d\n",
    "            LEFT JOIN counties as c ON d.county = c.id\n",
    "            LEFT JOIN regions as r on d.region = r.id\n",
    "            order by d.surname    \n",
    "              '''\n",
    "             )"
   ]
  },
  {
   "cell_type": "code",
   "execution_count": 22,
   "id": "0f09e737-433f-4451-84a3-83d4add60f5b",
   "metadata": {},
   "outputs": [],
   "source": [
    "workbook.close()"
   ]
  },
  {
   "cell_type": "markdown",
   "id": "5452c40a-d36e-447c-aba5-cf40ed1a6497",
   "metadata": {},
   "source": [
    "# Закрити базу даних"
   ]
  },
  {
   "cell_type": "code",
   "execution_count": 23,
   "id": "369e7385-d9cb-4645-9854-2d9a6e494dfd",
   "metadata": {},
   "outputs": [],
   "source": [
    "db.close()"
   ]
  }
 ],
 "metadata": {
  "kernelspec": {
   "display_name": "Python 3 (ipykernel)",
   "language": "python",
   "name": "python3"
  },
  "language_info": {
   "codemirror_mode": {
    "name": "ipython",
    "version": 3
   },
   "file_extension": ".py",
   "mimetype": "text/x-python",
   "name": "python",
   "nbconvert_exporter": "python",
   "pygments_lexer": "ipython3",
   "version": "3.9.12"
  }
 },
 "nbformat": 4,
 "nbformat_minor": 5
}
