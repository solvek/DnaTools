{
 "cells": [
  {
   "cell_type": "markdown",
   "id": "22d4d175-8d3d-4854-9cc1-3248bcf74c43",
   "metadata": {},
   "source": [
    "# Підготовка даних\n",
    "\n",
    "## Файл csv із збігами та їх прізвищами\n",
    "\n",
    "Мають бути такі колонки\n",
    "\n",
    "- surname - прізвище предка збіженця. У чоловічому роді, українською мовою\n",
    "- name - ім'я збіженця\n",
    "- cm - число, спільна днк в сантиморганах\n",
    "- url - покликання на збіженця"
   ]
  },
  {
   "cell_type": "markdown",
   "id": "9cca8251-0e7c-4a0e-bd42-b5ef10bb11e1",
   "metadata": {},
   "source": [
    "# Параметри"
   ]
  },
  {
   "cell_type": "code",
   "execution_count": 4,
   "id": "7cc11b0e-3ea5-4e37-a6e5-64c8457b5191",
   "metadata": {},
   "outputs": [],
   "source": [
    "# Всі необхідні файли потрібно покласи у цей каталог\n",
    "directory = \"data\"\n",
    "\n",
    "# Файл із збіженцями та прізвищами їх предків\n",
    "input_matches = \"DNA Genealogy - Surnames_dad.csv\"\n",
    "\n",
    "multy = 1000"
   ]
  },
  {
   "cell_type": "markdown",
   "id": "9fdf784c-e8b3-49d8-926a-9d1748974e08",
   "metadata": {},
   "source": [
    "# Відкриваємо вхідний файл із збіженцями прізвищами їх предків та базу даних"
   ]
  },
  {
   "cell_type": "code",
   "execution_count": 30,
   "id": "366f0d02-3d6f-48a9-ba12-a54af3f9788e",
   "metadata": {},
   "outputs": [],
   "source": [
    "import sqlite3\n",
    "\n",
    "db = sqlite3.connect(f'{directory}/surnames.sqlite3')"
   ]
  },
  {
   "cell_type": "code",
   "execution_count": 5,
   "id": "a6ad8953-41dd-4e8e-822e-904a6c8f8dff",
   "metadata": {},
   "outputs": [
    {
     "data": {
      "text/html": [
       "<div>\n",
       "<style scoped>\n",
       "    .dataframe tbody tr th:only-of-type {\n",
       "        vertical-align: middle;\n",
       "    }\n",
       "\n",
       "    .dataframe tbody tr th {\n",
       "        vertical-align: top;\n",
       "    }\n",
       "\n",
       "    .dataframe thead th {\n",
       "        text-align: right;\n",
       "    }\n",
       "</style>\n",
       "<table border=\"1\" class=\"dataframe\">\n",
       "  <thead>\n",
       "    <tr style=\"text-align: right;\">\n",
       "      <th></th>\n",
       "      <th>surname</th>\n",
       "      <th>name</th>\n",
       "      <th>cm</th>\n",
       "      <th>url</th>\n",
       "    </tr>\n",
       "  </thead>\n",
       "  <tbody>\n",
       "    <tr>\n",
       "      <th>0</th>\n",
       "      <td>Стемковський</td>\n",
       "      <td>Владислав Стемковський</td>\n",
       "      <td>113.2</td>\n",
       "      <td>https://www.myheritage.com.ua/dna/match/D-303A...</td>\n",
       "    </tr>\n",
       "    <tr>\n",
       "      <th>1</th>\n",
       "      <td>Стемкповський</td>\n",
       "      <td>Владислав Стемковський</td>\n",
       "      <td>113.2</td>\n",
       "      <td>https://www.myheritage.com.ua/dna/match/D-303A...</td>\n",
       "    </tr>\n",
       "    <tr>\n",
       "      <th>2</th>\n",
       "      <td>Дячук</td>\n",
       "      <td>Інна Сидорук</td>\n",
       "      <td>69.3</td>\n",
       "      <td>https://www.myheritage.com.ua/dna/match/D-303A...</td>\n",
       "    </tr>\n",
       "    <tr>\n",
       "      <th>3</th>\n",
       "      <td>Кавюк</td>\n",
       "      <td>Інна Сидорук</td>\n",
       "      <td>69.3</td>\n",
       "      <td>https://www.myheritage.com.ua/dna/match/D-303A...</td>\n",
       "    </tr>\n",
       "    <tr>\n",
       "      <th>4</th>\n",
       "      <td>Барчук</td>\n",
       "      <td>Інна Сидорук</td>\n",
       "      <td>69.3</td>\n",
       "      <td>https://www.myheritage.com.ua/dna/match/D-303A...</td>\n",
       "    </tr>\n",
       "    <tr>\n",
       "      <th>...</th>\n",
       "      <td>...</td>\n",
       "      <td>...</td>\n",
       "      <td>...</td>\n",
       "      <td>...</td>\n",
       "    </tr>\n",
       "    <tr>\n",
       "      <th>103</th>\n",
       "      <td>Лесик</td>\n",
       "      <td>Mikhail Furdik</td>\n",
       "      <td>26.3</td>\n",
       "      <td>https://www.myheritage.com.ua/dna/match/D-303A...</td>\n",
       "    </tr>\n",
       "    <tr>\n",
       "      <th>104</th>\n",
       "      <td>Маковський</td>\n",
       "      <td>Mikhail Furdik</td>\n",
       "      <td>26.3</td>\n",
       "      <td>https://www.myheritage.com.ua/dna/match/D-303A...</td>\n",
       "    </tr>\n",
       "    <tr>\n",
       "      <th>105</th>\n",
       "      <td>Осійчук</td>\n",
       "      <td>Mikhail Furdik</td>\n",
       "      <td>26.3</td>\n",
       "      <td>https://www.myheritage.com.ua/dna/match/D-303A...</td>\n",
       "    </tr>\n",
       "    <tr>\n",
       "      <th>106</th>\n",
       "      <td>Пасік</td>\n",
       "      <td>Mikhail Furdik</td>\n",
       "      <td>26.3</td>\n",
       "      <td>https://www.myheritage.com.ua/dna/match/D-303A...</td>\n",
       "    </tr>\n",
       "    <tr>\n",
       "      <th>107</th>\n",
       "      <td>Їцик</td>\n",
       "      <td>Mikhail Furdik</td>\n",
       "      <td>26.3</td>\n",
       "      <td>https://www.myheritage.com.ua/dna/match/D-303A...</td>\n",
       "    </tr>\n",
       "  </tbody>\n",
       "</table>\n",
       "<p>108 rows × 4 columns</p>\n",
       "</div>"
      ],
      "text/plain": [
       "           surname                    name     cm  \\\n",
       "0     Стемковський  Владислав Стемковський  113.2   \n",
       "1    Стемкповський  Владислав Стемковський  113.2   \n",
       "2            Дячук            Інна Сидорук   69.3   \n",
       "3            Кавюк            Інна Сидорук   69.3   \n",
       "4           Барчук            Інна Сидорук   69.3   \n",
       "..             ...                     ...    ...   \n",
       "103          Лесик          Mikhail Furdik   26.3   \n",
       "104     Маковський          Mikhail Furdik   26.3   \n",
       "105        Осійчук          Mikhail Furdik   26.3   \n",
       "106          Пасік          Mikhail Furdik   26.3   \n",
       "107           Їцик          Mikhail Furdik   26.3   \n",
       "\n",
       "                                                   url  \n",
       "0    https://www.myheritage.com.ua/dna/match/D-303A...  \n",
       "1    https://www.myheritage.com.ua/dna/match/D-303A...  \n",
       "2    https://www.myheritage.com.ua/dna/match/D-303A...  \n",
       "3    https://www.myheritage.com.ua/dna/match/D-303A...  \n",
       "4    https://www.myheritage.com.ua/dna/match/D-303A...  \n",
       "..                                                 ...  \n",
       "103  https://www.myheritage.com.ua/dna/match/D-303A...  \n",
       "104  https://www.myheritage.com.ua/dna/match/D-303A...  \n",
       "105  https://www.myheritage.com.ua/dna/match/D-303A...  \n",
       "106  https://www.myheritage.com.ua/dna/match/D-303A...  \n",
       "107  https://www.myheritage.com.ua/dna/match/D-303A...  \n",
       "\n",
       "[108 rows x 4 columns]"
      ]
     },
     "execution_count": 5,
     "metadata": {},
     "output_type": "execute_result"
    }
   ],
   "source": [
    "import pandas as pd\n",
    "matches_df = pd.read_csv(f'{directory}/{input_matches}')\n",
    "matches_df"
   ]
  },
  {
   "cell_type": "markdown",
   "id": "f2423e10-79e9-4aff-a114-40d5300e02bf",
   "metadata": {},
   "source": [
    "# Підготовка таблиць"
   ]
  },
  {
   "cell_type": "code",
   "execution_count": 31,
   "id": "d00bba2f-5410-4912-bd56-067fd2321134",
   "metadata": {},
   "outputs": [],
   "source": [
    "table_distribution = \"distribution\"\n",
    "table_raw = \"raw\"\n",
    "\n",
    "cursor = db.cursor()\n"
   ]
  },
  {
   "cell_type": "code",
   "execution_count": 38,
   "id": "2f3b4b27-1da1-4ad2-b810-04188bf40873",
   "metadata": {},
   "outputs": [
    {
     "data": {
      "text/plain": [
       "<sqlite3.Cursor at 0x76d7baa3df10>"
      ]
     },
     "execution_count": 38,
     "metadata": {},
     "output_type": "execute_result"
    }
   ],
   "source": [
    "cursor.execute(f'DROP TABLE IF EXISTS {table_distribution}')\n",
    "cursor.execute(\n",
    "    f'''\n",
    "    CREATE TABLE {table_distribution} (\n",
    "    \t\"region\"\tINTEGER NOT NULL,\n",
    "    \t\"county\"\tINTEGER NOT NULL,\n",
    "    \t\"city\"\tTEXT NOT NULL,\n",
    "    \t\"score\"\tREAL NOT NULL,\n",
    "    \tPRIMARY KEY(\"region\",\"county\",\"city\")\n",
    "    )\n",
    "    '''\n",
    ")"
   ]
  },
  {
   "cell_type": "code",
   "execution_count": 39,
   "id": "c1069c6b-892c-4f3c-8097-594416bc51ba",
   "metadata": {},
   "outputs": [
    {
     "data": {
      "text/plain": [
       "<sqlite3.Cursor at 0x76d7baa3df10>"
      ]
     },
     "execution_count": 39,
     "metadata": {},
     "output_type": "execute_result"
    }
   ],
   "source": [
    "cursor.execute(f'DROP TABLE IF EXISTS {table_raw}')\n",
    "cursor.execute(\n",
    "    f'''\n",
    "    CREATE TABLE \"{table_raw}\" (\n",
    "    \t\"surname\"\tINTEGER NOT NULL,\n",
    "    \t\"city\"\tTEXT NOT NULL,\n",
    "    \t\"county\"\tINTEGER NOT NULL,\n",
    "    \t\"region\"\tINTEGER NOT NULL,\n",
    "    \t\"cnt\"\tINTEGER NOT NULL,\n",
    "    \t\"match\"\tINTEGER NOT NULL,\n",
    "    \t\"url\"\tTEXT NOT NULL\n",
    "    );\n",
    "    '''\n",
    ")"
   ]
  },
  {
   "cell_type": "code",
   "execution_count": 40,
   "id": "dfe31c52-3d45-4a78-9773-fcb37ffeb081",
   "metadata": {},
   "outputs": [],
   "source": [
    "db.commit()"
   ]
  },
  {
   "cell_type": "markdown",
   "id": "9118a1d8-2e78-49fb-a92b-51c7e79db1c8",
   "metadata": {},
   "source": [
    "# Групування збіженців"
   ]
  },
  {
   "cell_type": "code",
   "execution_count": 17,
   "id": "5e922c61-3e75-415b-9769-2faa415d2b6c",
   "metadata": {},
   "outputs": [],
   "source": [
    "match_grouped = matches_df.groupby([\"url\", \"cm\", \"name\"]).surname"
   ]
  },
  {
   "cell_type": "code",
   "execution_count": 41,
   "id": "4ddea6d7-7a76-4c49-98bc-e6e1d774a669",
   "metadata": {},
   "outputs": [
    {
     "name": "stdout",
     "output_type": "stream",
     "text": [
      "Елена Алексеевна Петрукович\n",
      "Mark Kiessling\n",
      "Наталія Ковальчук\n",
      "Mikhail Furdik\n",
      "Yana Boug\n",
      "Андрей Андриевский\n",
      "Владислав Стемковський\n",
      "Svitlana Slobodyanyuk\n",
      "Roman Parfeniouk\n",
      "Antonina Heitz\n",
      "Pavel Ruban\n",
      "Zhanna Khustochka\n",
      "stanislav Ninaltovskyy\n",
      "Андрій Коваленко\n",
      "Інна Сидорук\n",
      "Maksim Chykun\n",
      "Janet Deyneka\n",
      "Андрій Скиба\n",
      "Василь Гребенюк\n",
      "Роман Войцехівський\n",
      "Viktoriya Шведченко\n",
      "Natalia Etten\n",
      "Diana Polianska\n",
      "Oksana Vecherynska\n",
      "Володимир Подзізей\n",
      "Zhanna Klymenko\n",
      "Юлія Рудюк\n",
      "Nikolas 14\n",
      "Paul Dmitruk\n",
      "Ustynia Filimoniuk\n",
      "Viacheslav Serdiuk\n",
      "Tatiana Dolenko\n",
      "Iryna Byshenko\n",
      "All records processed\n"
     ]
    }
   ],
   "source": [
    "for (url, cm, match), surnames in match_grouped:\n",
    "    print(match)\n",
    "    cm_float = float(cm)\n",
    "    str_surnames = \"','\".join(map(lambda t: t.upper(), surnames))\n",
    "    select = f'''\n",
    "        SELECT \n",
    "            COUNT(*) AS cn,\n",
    "        \t\"Областьнародження\" as region,\n",
    "        \tIFNULL(\"Районнародження\",0) as county,\n",
    "        \t\"Названаселеногопунктународження(Україна)\" as city,\n",
    "            \"Прізвищє\" as surname\n",
    "        FROM people \n",
    "        where \n",
    "        \t\"Прізвищє\" in ('{str_surnames}') \n",
    "        \tAND \"Стать\"=1 \n",
    "        \tAND \"Названаселеногопунктународження(Україна)\" IS NOT NULL \n",
    "        \tAND \"Областьнародження\" IS NOT NULL\n",
    "        GROUP BY region,\n",
    "        \tcounty,\n",
    "        \tcity,\n",
    "            surname\n",
    "    '''\n",
    "\n",
    "    def rec(row):\n",
    "        (cnt, region, county, city, surname) = row\n",
    "        return {\n",
    "            'surname': surname,\n",
    "            \"region\": region,\n",
    "            \"county\": county,\n",
    "            \"city\": city,\n",
    "            \"cnt\": cnt\n",
    "        }\n",
    "\n",
    "    cursor.execute(select)\n",
    "    res = list(map(rec, cursor.fetchall()))\n",
    "    total = 0\n",
    "    for t in res:\n",
    "        # print(t)\n",
    "        total = total + t[\"cnt\"]\n",
    "\n",
    "    def update_params(r):\n",
    "        score = (cm_float*r[\"cnt\"]*multy)/total\n",
    "        return (r[\"region\"], r[\"county\"], r[\"city\"], score, score)\n",
    "\n",
    "    def insert_raw_params(r):\n",
    "        return (r[\"surname\"], r[\"city\"], r[\"county\"], r[\"region\"], r[\"cnt\"], match, url)\n",
    "\n",
    "    cursor.executemany(\n",
    "        f'''\n",
    "        INSERT INTO {table_distribution}(region, county, city, score)\n",
    "          VALUES(?, ?, ?, ?)\n",
    "          ON CONFLICT(region, county, city) DO UPDATE SET\n",
    "            score=score+?;\n",
    "        ''',\n",
    "        list(map(update_params, res))\n",
    "    )\n",
    "\n",
    "    cursor.executemany(\n",
    "        f'''\n",
    "        INSERT INTO {table_raw}(surname, city, county, region, cnt, match, url)\n",
    "          VALUES(?, ?, ?, ?, ?, ?, ?)\n",
    "        ''',\n",
    "        list(map(insert_raw_params, res))\n",
    "    )\n",
    "    \n",
    "    db.commit()\n",
    "    # break\n",
    "\n",
    "print(\"All records processed\")\n",
    "    "
   ]
  },
  {
   "cell_type": "code",
   "execution_count": 29,
   "id": "369e7385-d9cb-4645-9854-2d9a6e494dfd",
   "metadata": {},
   "outputs": [],
   "source": [
    "db.close()"
   ]
  }
 ],
 "metadata": {
  "kernelspec": {
   "display_name": "Python 3 (ipykernel)",
   "language": "python",
   "name": "python3"
  },
  "language_info": {
   "codemirror_mode": {
    "name": "ipython",
    "version": 3
   },
   "file_extension": ".py",
   "mimetype": "text/x-python",
   "name": "python",
   "nbconvert_exporter": "python",
   "pygments_lexer": "ipython3",
   "version": "3.9.12"
  }
 },
 "nbformat": 4,
 "nbformat_minor": 5
}
