{
 "cells": [
  {
   "cell_type": "markdown",
   "id": "9e45c585-f0c6-4dd4-b216-6bdf8cf6fd02",
   "metadata": {},
   "source": [
    "# Параметри"
   ]
  },
  {
   "cell_type": "code",
   "execution_count": null,
   "id": "21458066-da6e-41f6-b51a-8f564c285648",
   "metadata": {},
   "outputs": [],
   "source": [
    "# Файл із вихідними даними\n",
    "MATCH_GRAPH_FILE = \"../data/mds_matches.csv\""
   ]
  },
  {
   "cell_type": "markdown",
   "id": "0ef699fc-4e0e-4a73-bce1-f9dae32f6ba7",
   "metadata": {},
   "source": [
    "# Зчитування вихідних даних"
   ]
  },
  {
   "cell_type": "code",
   "execution_count": null,
   "id": "4363c194-da03-4ee2-bbb5-c956f97976fa",
   "metadata": {},
   "outputs": [],
   "source": [
    "import pandas as pd\n",
    "matches_df = pd.read_csv(MATCH_GRAPH_FILE)\n",
    "matches_df"
   ]
  }
 ],
 "metadata": {
  "kernelspec": {
   "display_name": "Python 3 (ipykernel)",
   "language": "python",
   "name": "python3"
  },
  "language_info": {
   "codemirror_mode": {
    "name": "ipython",
    "version": 3
   },
   "file_extension": ".py",
   "mimetype": "text/x-python",
   "name": "python",
   "nbconvert_exporter": "python",
   "pygments_lexer": "ipython3",
   "version": "3.9.12"
  }
 },
 "nbformat": 4,
 "nbformat_minor": 5
}
