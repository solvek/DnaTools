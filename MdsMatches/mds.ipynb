{
 "cells": [
  {
   "cell_type": "markdown",
   "id": "9e45c585-f0c6-4dd4-b216-6bdf8cf6fd02",
   "metadata": {},
   "source": [
    "# Параметри"
   ]
  },
  {
   "cell_type": "code",
   "execution_count": 64,
   "id": "21458066-da6e-41f6-b51a-8f564c285648",
   "metadata": {},
   "outputs": [],
   "source": [
    "# Файл із вихідними даними\n",
    "MATCH_GRAPH_FILE = \"data/mds_matches.csv\"\n",
    "\n",
    "PROFILE0 = \"Sergi Adamchuk\"\n",
    "PROFILE1 = \"Natalya Valentynivna Dymytryuk\"\n",
    "\n",
    "DIMENSIONS = 2\n",
    "\n",
    "SCALE = 100"
   ]
  },
  {
   "cell_type": "markdown",
   "id": "5b2566f7-e0b2-4d20-a9e7-440f01e6d7d8",
   "metadata": {},
   "source": [
    "# Підготовлені дані"
   ]
  },
  {
   "cell_type": "code",
   "execution_count": 17,
   "id": "a59d5e86-bc7a-4cdc-a60c-049d18572933",
   "metadata": {},
   "outputs": [],
   "source": [
    "matches = {}"
   ]
  },
  {
   "cell_type": "code",
   "execution_count": 12,
   "id": "cd2ee002-961f-4cb0-b985-296ee24d4d14",
   "metadata": {},
   "outputs": [],
   "source": [
    "def add_match(match1, match2, cm):\n",
    "    if match1 in matches:\n",
    "        m = matches[match1]\n",
    "    else:       \n",
    "        m = {}\n",
    "        matches[match1] = m\n",
    "    m[match2] = cm    "
   ]
  },
  {
   "cell_type": "code",
   "execution_count": 18,
   "id": "fea85c3c-559f-4674-92e5-b77b72247248",
   "metadata": {},
   "outputs": [],
   "source": [
    "def parse_num(s):\n",
    "    return float(s.replace(\" \", \"\").replace(\",\", \".\"))"
   ]
  },
  {
   "cell_type": "code",
   "execution_count": 20,
   "id": "f7770a9f-f404-4413-b57e-6945f8967045",
   "metadata": {},
   "outputs": [],
   "source": [
    "import re\n",
    "\n",
    "def clean_name(s):\n",
    "    return re.sub(r'\\s*\\[.*\\]$', '', s)"
   ]
  },
  {
   "cell_type": "markdown",
   "id": "0ef699fc-4e0e-4a73-bce1-f9dae32f6ba7",
   "metadata": {},
   "source": [
    "# Зчитування вихідних даних"
   ]
  },
  {
   "cell_type": "code",
   "execution_count": 6,
   "id": "4363c194-da03-4ee2-bbb5-c956f97976fa",
   "metadata": {},
   "outputs": [
    {
     "data": {
      "text/html": [
       "<div>\n",
       "<style scoped>\n",
       "    .dataframe tbody tr th:only-of-type {\n",
       "        vertical-align: middle;\n",
       "    }\n",
       "\n",
       "    .dataframe tbody tr th {\n",
       "        vertical-align: top;\n",
       "    }\n",
       "\n",
       "    .dataframe thead th {\n",
       "        text-align: right;\n",
       "    }\n",
       "</style>\n",
       "<table border=\"1\" class=\"dataframe\">\n",
       "  <thead>\n",
       "    <tr style=\"text-align: right;\">\n",
       "      <th></th>\n",
       "      <th>name</th>\n",
       "      <th>shared_dna</th>\n",
       "      <th>match_shared</th>\n",
       "      <th>match_name</th>\n",
       "    </tr>\n",
       "  </thead>\n",
       "  <tbody>\n",
       "    <tr>\n",
       "      <th>0</th>\n",
       "      <td>Levko Adamchuk [Левко Адамчук]</td>\n",
       "      <td>3 532,1</td>\n",
       "      <td>883,3</td>\n",
       "      <td>Natalya Valentynivna Dymytryuk</td>\n",
       "    </tr>\n",
       "    <tr>\n",
       "      <th>1</th>\n",
       "      <td>Levko Adamchuk [Левко Адамчук]</td>\n",
       "      <td>3 532,1</td>\n",
       "      <td>471,0</td>\n",
       "      <td>Mykola Martyniuk</td>\n",
       "    </tr>\n",
       "    <tr>\n",
       "      <th>2</th>\n",
       "      <td>Levko Adamchuk [Левко Адамчук]</td>\n",
       "      <td>3 532,1</td>\n",
       "      <td>29,2</td>\n",
       "      <td>Marie Lis</td>\n",
       "    </tr>\n",
       "    <tr>\n",
       "      <th>3</th>\n",
       "      <td>Levko Adamchuk [Левко Адамчук]</td>\n",
       "      <td>3 532,1</td>\n",
       "      <td>35,6</td>\n",
       "      <td>Anna stefanidis</td>\n",
       "    </tr>\n",
       "    <tr>\n",
       "      <th>4</th>\n",
       "      <td>Levko Adamchuk [Левко Адамчук]</td>\n",
       "      <td>3 532,1</td>\n",
       "      <td>24,0</td>\n",
       "      <td>Olya Shylipuk</td>\n",
       "    </tr>\n",
       "    <tr>\n",
       "      <th>...</th>\n",
       "      <td>...</td>\n",
       "      <td>...</td>\n",
       "      <td>...</td>\n",
       "      <td>...</td>\n",
       "    </tr>\n",
       "    <tr>\n",
       "      <th>585</th>\n",
       "      <td>Wojciech Duszkiewicz [Войцих Дузкиевихз]</td>\n",
       "      <td>36,3</td>\n",
       "      <td>15,5</td>\n",
       "      <td>Dmitry Konstantinov</td>\n",
       "    </tr>\n",
       "    <tr>\n",
       "      <th>586</th>\n",
       "      <td>Wojciech Duszkiewicz [Войцих Дузкиевихз]</td>\n",
       "      <td>36,3</td>\n",
       "      <td>14,2</td>\n",
       "      <td>Christine Fischer</td>\n",
       "    </tr>\n",
       "    <tr>\n",
       "      <th>587</th>\n",
       "      <td>Wojciech Duszkiewicz [Войцих Дузкиевихз]</td>\n",
       "      <td>36,3</td>\n",
       "      <td>30,2</td>\n",
       "      <td>Svetlana Kuhn</td>\n",
       "    </tr>\n",
       "    <tr>\n",
       "      <th>588</th>\n",
       "      <td>Wojciech Duszkiewicz [Войцих Дузкиевихз]</td>\n",
       "      <td>36,3</td>\n",
       "      <td>8,7</td>\n",
       "      <td>Matěj Jakimov</td>\n",
       "    </tr>\n",
       "    <tr>\n",
       "      <th>589</th>\n",
       "      <td>Wojciech Duszkiewicz [Войцих Дузкиевихз]</td>\n",
       "      <td>36,3</td>\n",
       "      <td>8,6</td>\n",
       "      <td>Dexter Matis</td>\n",
       "    </tr>\n",
       "  </tbody>\n",
       "</table>\n",
       "<p>590 rows × 4 columns</p>\n",
       "</div>"
      ],
      "text/plain": [
       "                                         name shared_dna match_shared  \\\n",
       "0              Levko Adamchuk [Левко Адамчук]    3 532,1        883,3   \n",
       "1              Levko Adamchuk [Левко Адамчук]    3 532,1        471,0   \n",
       "2              Levko Adamchuk [Левко Адамчук]    3 532,1         29,2   \n",
       "3              Levko Adamchuk [Левко Адамчук]    3 532,1         35,6   \n",
       "4              Levko Adamchuk [Левко Адамчук]    3 532,1         24,0   \n",
       "..                                        ...        ...          ...   \n",
       "585  Wojciech Duszkiewicz [Войцих Дузкиевихз]       36,3         15,5   \n",
       "586  Wojciech Duszkiewicz [Войцих Дузкиевихз]       36,3         14,2   \n",
       "587  Wojciech Duszkiewicz [Войцих Дузкиевихз]       36,3         30,2   \n",
       "588  Wojciech Duszkiewicz [Войцих Дузкиевихз]       36,3          8,7   \n",
       "589  Wojciech Duszkiewicz [Войцих Дузкиевихз]       36,3          8,6   \n",
       "\n",
       "                         match_name  \n",
       "0    Natalya Valentynivna Dymytryuk  \n",
       "1                  Mykola Martyniuk  \n",
       "2                         Marie Lis  \n",
       "3                   Anna stefanidis  \n",
       "4                     Olya Shylipuk  \n",
       "..                              ...  \n",
       "585             Dmitry Konstantinov  \n",
       "586               Christine Fischer  \n",
       "587                   Svetlana Kuhn  \n",
       "588                   Matěj Jakimov  \n",
       "589                    Dexter Matis  \n",
       "\n",
       "[590 rows x 4 columns]"
      ]
     },
     "execution_count": 6,
     "metadata": {},
     "output_type": "execute_result"
    }
   ],
   "source": [
    "import pandas as pd\n",
    "matches_df = pd.read_csv(MATCH_GRAPH_FILE, sep='\\t')\n",
    "matches_df"
   ]
  },
  {
   "cell_type": "code",
   "execution_count": 21,
   "id": "1691cad9-efaa-44de-a059-fceb3139ea07",
   "metadata": {},
   "outputs": [
    {
     "data": {
      "text/plain": [
       "0      None\n",
       "1      None\n",
       "2      None\n",
       "3      None\n",
       "4      None\n",
       "       ... \n",
       "585    None\n",
       "586    None\n",
       "587    None\n",
       "588    None\n",
       "589    None\n",
       "Length: 590, dtype: object"
      ]
     },
     "execution_count": 21,
     "metadata": {},
     "output_type": "execute_result"
    }
   ],
   "source": [
    "def handle_row(row):\n",
    "    match = clean_name(row['name'])\n",
    "    add_match(PROFILE0, match, parse_num(row[\"shared_dna\"]))\n",
    "    add_match(match, row[\"match_name\"], parse_num(row[\"match_shared\"]))\n",
    "    \n",
    "\n",
    "matches_df.apply(handle_row, axis=1)"
   ]
  },
  {
   "cell_type": "code",
   "execution_count": 30,
   "id": "157ae56b-bba8-4659-81ba-760baa5a6c9b",
   "metadata": {
    "scrolled": true
   },
   "outputs": [],
   "source": [
    "labels = list(matches.keys())\n",
    "matches_count = len(labels)"
   ]
  },
  {
   "cell_type": "code",
   "execution_count": 25,
   "id": "65db412e-1475-47b2-8e0b-fa6f4a456aa9",
   "metadata": {},
   "outputs": [],
   "source": [
    "def shared_dna_direct(match1, match2):\n",
    "    if match1 in matches:\n",
    "        m = matches[match1]\n",
    "        if match2 in m:\n",
    "            return m[match2]\n",
    "    return None\n",
    "\n",
    "def shared_dna(match1, match2):\n",
    "    cm = shared_dna_direct(match1, match2)\n",
    "    if cm is None:\n",
    "        cm = shared_dna_direct(match2, match1)\n",
    "    return cm"
   ]
  },
  {
   "cell_type": "markdown",
   "id": "11fe700b-302b-4bc1-abba-0be4f27cafdd",
   "metadata": {},
   "source": [
    "# Функція розрахунку відстані між збігами"
   ]
  },
  {
   "cell_type": "code",
   "execution_count": 56,
   "id": "5bed982c-1971-42ab-8b10-161cd9e90d20",
   "metadata": {},
   "outputs": [],
   "source": [
    "import math\n",
    "\n",
    "def distance(m1, m2):\n",
    "    cm = shared_dna(m1, m2)\n",
    "    if cm is None:\n",
    "        cm = 5\n",
    "    return 1 + math.log2(3500.0/cm)/2"
   ]
  },
  {
   "cell_type": "markdown",
   "id": "6dafb10c-6cbe-4696-b01b-0c4cb868da68",
   "metadata": {},
   "source": [
    "# Матриця відстаней"
   ]
  },
  {
   "cell_type": "code",
   "execution_count": 57,
   "id": "ad825001-f5d3-40c6-8ad6-b1b280332315",
   "metadata": {},
   "outputs": [],
   "source": [
    "import numpy as np\n",
    "\n",
    "distances = np.zeros((matches_count, matches_count))\n",
    "\n",
    "for i in range(0, matches_count):\n",
    "    for j in range(i+1, matches_count):\n",
    "        dist = distance(labels[i], labels[j])\n",
    "        distances[i,j] = dist\n",
    "        distances[j,i] = dist\n"
   ]
  },
  {
   "cell_type": "markdown",
   "id": "7cbede13-06da-4008-8498-db7b97e68467",
   "metadata": {},
   "source": [
    "# Розкидаємо збіги на системі координат"
   ]
  },
  {
   "cell_type": "code",
   "execution_count": 131,
   "id": "db953f50-7026-4729-bcca-a002e7614e22",
   "metadata": {},
   "outputs": [],
   "source": [
    "from sklearn.manifold import MDS\n",
    "\n",
    "mds = MDS(n_components=DIMENSIONS, dissimilarity='precomputed', normalized_stress='auto', random_state=42)\n",
    "\n",
    "coords_raw = mds.fit_transform(distances)"
   ]
  },
  {
   "cell_type": "markdown",
   "id": "010530d5-8d8d-4535-a976-4935474d2694",
   "metadata": {},
   "source": [
    "# Трансформуємо точки"
   ]
  },
  {
   "cell_type": "code",
   "execution_count": 132,
   "id": "e0cc6e62-6346-4c0c-b8e4-f999d3a018f9",
   "metadata": {},
   "outputs": [],
   "source": [
    "p0, p1 = coords_raw[labels.index(PROFILE0)], coords_raw[labels.index(PROFILE1)]\n",
    "diff = p1 - p0\n",
    "norm = np.linalg.norm(diff)\n",
    "direction = diff / norm\n",
    "dx, dy = direction[0], direction[1]\n",
    "rotation_matrix = np.array([[dx, -dy], [dy, dx]])\n",
    "scale = SCALE / norm\n",
    "coords = ((coords_raw - p0) @ rotation_matrix) * scale"
   ]
  },
  {
   "cell_type": "code",
   "execution_count": 133,
   "id": "53cd67b5-c2ec-478b-9a3f-7fe41ca70115",
   "metadata": {},
   "outputs": [
    {
     "data": {
      "text/plain": [
       "array([[ 0.00000000e+00,  0.00000000e+00],\n",
       "       [ 3.54145738e+01,  7.56577312e+00],\n",
       "       [ 1.00000000e+02,  4.53225754e-16],\n",
       "       [ 8.09462723e+01, -1.13839899e+02],\n",
       "       [-1.36975293e+02, -4.35921385e+01],\n",
       "       [-2.94528550e+01, -2.51396386e+02],\n",
       "       [-1.74205094e+02,  1.84129629e+02],\n",
       "       [ 1.87709152e+02, -6.20433981e+00],\n",
       "       [-5.27851190e+01, -1.71364282e+02],\n",
       "       [ 1.66947467e+01,  1.49660867e+02],\n",
       "       [ 6.90793430e-01,  2.45965696e+02],\n",
       "       [ 2.21772614e+02,  7.77952608e+01],\n",
       "       [-2.49228010e+02, -7.70368634e+01],\n",
       "       [ 2.25955450e+02, -8.53464861e+01],\n",
       "       [ 1.01754513e+02,  2.16472900e+02],\n",
       "       [-9.14509062e+01,  2.25499540e+02],\n",
       "       [-1.83597665e+02, -1.39202892e+02],\n",
       "       [-2.52783161e+02,  1.66524715e+01],\n",
       "       [ 1.71776479e+02,  1.58949497e+02],\n",
       "       [-2.28631094e+02,  1.01075991e+02],\n",
       "       [ 1.64598375e+02, -1.81586366e+02],\n",
       "       [ 7.11442168e+01, -2.33310155e+02],\n",
       "       [-1.43753836e+02, -2.14955361e+02],\n",
       "       [-1.24515638e+02,  9.63917491e+01]])"
      ]
     },
     "execution_count": 133,
     "metadata": {},
     "output_type": "execute_result"
    }
   ],
   "source": [
    "coords"
   ]
  },
  {
   "cell_type": "code",
   "execution_count": 82,
   "id": "872f347b-0eb2-4156-a875-44b25cd19404",
   "metadata": {},
   "outputs": [
    {
     "data": {
      "text/plain": [
       "array([-0.77179011, -0.63587737])"
      ]
     },
     "execution_count": 82,
     "metadata": {},
     "output_type": "execute_result"
    }
   ],
   "source": [
    "direction"
   ]
  },
  {
   "cell_type": "code",
   "execution_count": 92,
   "id": "94c99bb8-d87c-4c6d-9f61-a5af096d1703",
   "metadata": {},
   "outputs": [
    {
     "data": {
      "text/plain": [
       "array([[   0.        ,    0.        ],\n",
       "       [  35.4145738 ,  -22.52171391],\n",
       "       [ 100.        ,  -77.17901099],\n",
       "       [  80.94627235, -134.86174794],\n",
       "       [-136.97529275,   77.99692198],\n",
       "       [ -29.45285495, -137.12584986],\n",
       "       [-174.20509374,  251.53363228],\n",
       "       [ 187.70915233, -148.81726658],\n",
       "       [ -52.78511897,  -68.22763569],\n",
       "       [  16.69474673,   82.28111738],\n",
       "       [   0.69079343,  155.87087185],\n",
       "       [ 221.77261389, -121.69366442],\n",
       "       [-249.22801014,  143.36571545],\n",
       "       [ 225.95544962, -228.66008019],\n",
       "       [ 101.75451307,   59.11709111],\n",
       "       [ -91.45090619,  213.97095895],\n",
       "       [-183.59766491,   53.18289353],\n",
       "       [-252.7831611 ,  205.68447341],\n",
       "       [ 171.77647945,  -31.50300027],\n",
       "       [-228.63109381,  240.72715209],\n",
       "       [ 164.59837504, -242.50205837],\n",
       "       [  71.14421679, -203.2650501 ],\n",
       "       [-143.75383623,  -25.73745979],\n",
       "       [-124.51563837,  157.39326985]])"
      ]
     },
     "execution_count": 92,
     "metadata": {},
     "output_type": "execute_result"
    }
   ],
   "source": [
    "coords"
   ]
  },
  {
   "cell_type": "code",
   "execution_count": 86,
   "id": "847d5d1e-6d4c-47cc-98b1-6d9bd0d6cab9",
   "metadata": {},
   "outputs": [
    {
     "data": {
      "text/plain": [
       "array([-1.30660634, -1.07651211])"
      ]
     },
     "execution_count": 86,
     "metadata": {},
     "output_type": "execute_result"
    }
   ],
   "source": [
    "diff"
   ]
  },
  {
   "cell_type": "code",
   "execution_count": 128,
   "id": "b4b0f33d-3a2c-456b-95bc-50cf0a39131d",
   "metadata": {},
   "outputs": [
    {
     "name": "stdout",
     "output_type": "stream",
     "text": [
      "norm 50.0\n",
      "0.6 0.8\n"
     ]
    },
    {
     "data": {
      "text/plain": [
       "array([[ 2.2000000e+01,  4.0000000e+00],\n",
       "       [ 5.0000000e+01, -8.8817842e-16],\n",
       "       [ 7.8000000e+01, -4.0000000e+00],\n",
       "       [ 1.0600000e+02, -8.0000000e+00]])"
      ]
     },
     "execution_count": 128,
     "metadata": {},
     "output_type": "execute_result"
    }
   ],
   "source": [
    "coords_raw = np.array([[10, 20], [30, 40], [50, 60], [70, 80]])\n",
    "\n",
    "p1 = np.array([30, 40])\n",
    "\n",
    "norm = np.linalg.norm(p1)\n",
    "\n",
    "print(\"norm\", norm)\n",
    "\n",
    "direction = p1 / norm\n",
    "\n",
    "dx, dy = direction[0], direction[1]\n",
    "print(dx, dy)\n",
    "rotation_matrix = np.array([[dx, -dy], [dy, dx]])\n",
    "\n",
    "# np.dot(coords_raw, rotation_matrix)\n",
    "\n",
    "coords_raw @ rotation_matrix\n"
   ]
  },
  {
   "cell_type": "code",
   "execution_count": 114,
   "id": "9597de96-5b1f-492e-99a9-267299b966af",
   "metadata": {},
   "outputs": [
    {
     "name": "stdout",
     "output_type": "stream",
     "text": [
      "0.6 0.8\n"
     ]
    }
   ],
   "source": [
    "print(dx, dy)"
   ]
  },
  {
   "cell_type": "code",
   "execution_count": 127,
   "id": "e1234f33-a753-4e37-b8b9-8c72acd27876",
   "metadata": {},
   "outputs": [
    {
     "name": "stdout",
     "output_type": "stream",
     "text": [
      "[[-10. -20.]\n",
      " [-30. -40.]\n",
      " [-50. -60.]\n",
      " [-70. -80.]]\n"
     ]
    }
   ],
   "source": [
    "import numpy as np\n",
    "\n",
    "coords_raw = np.array([[10, 20], [30, 40], [50, 60], [70, 80]])\n",
    "\n",
    "# Приклад матриці обертання на 90 градусів\n",
    "theta = np.pi  # 90°\n",
    "cos_theta, sin_theta = np.cos(theta), np.sin(theta)\n",
    "rotation_matrix = np.array([[cos_theta, -sin_theta],\n",
    "                           [sin_theta,  cos_theta]])\n",
    "\n",
    "# Обчислюємо dot product кожного вектора з rotation_matrix\n",
    "transformed_coords = coords_raw @ rotation_matrix\n",
    "\n",
    "print(transformed_coords)"
   ]
  },
  {
   "cell_type": "code",
   "execution_count": null,
   "id": "f4f38c74-b063-4fb0-ab3b-aaf4a173239a",
   "metadata": {},
   "outputs": [],
   "source": []
  }
 ],
 "metadata": {
  "kernelspec": {
   "display_name": "Python 3 (ipykernel)",
   "language": "python",
   "name": "python3"
  },
  "language_info": {
   "codemirror_mode": {
    "name": "ipython",
    "version": 3
   },
   "file_extension": ".py",
   "mimetype": "text/x-python",
   "name": "python",
   "nbconvert_exporter": "python",
   "pygments_lexer": "ipython3",
   "version": "3.9.12"
  }
 },
 "nbformat": 4,
 "nbformat_minor": 5
}
