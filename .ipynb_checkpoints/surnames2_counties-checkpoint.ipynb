{
 "cells": [
  {
   "cell_type": "markdown",
   "id": "22d4d175-8d3d-4854-9cc1-3248bcf74c43",
   "metadata": {},
   "source": [
    "# Підготовка даних\n",
    "\n",
    "## Файл csv із збігами та їх прізвищами\n",
    "\n",
    "Мають бути такі колонки\n",
    "\n",
    "- surname - прізвище предка збіженця. У чоловічому роді, українською мовою\n",
    "- name - ім'я збіженця\n",
    "- cm - число, спільна днк в сантиморганах\n",
    "- url - покликання на збіженця"
   ]
  },
  {
   "cell_type": "markdown",
   "id": "9cca8251-0e7c-4a0e-bd42-b5ef10bb11e1",
   "metadata": {},
   "source": [
    "# Параметри"
   ]
  },
  {
   "cell_type": "code",
   "execution_count": 1,
   "id": "7cc11b0e-3ea5-4e37-a6e5-64c8457b5191",
   "metadata": {},
   "outputs": [],
   "source": [
    "# Всі необхідні файли потрібно покласи у цей каталог\n",
    "directory = \"data\"\n",
    "\n",
    "# Файл із збіженцями та прізвищами їх предків\n",
    "filename = \"DNA Genealogy - Surnames_sister\"\n",
    "\n",
    "limit_counties = 15"
   ]
  },
  {
   "cell_type": "markdown",
   "id": "9fdf784c-e8b3-49d8-926a-9d1748974e08",
   "metadata": {},
   "source": [
    "# Відкриваємо вхідний файл із збіженцями прізвищами їх предків та базу даних"
   ]
  },
  {
   "cell_type": "code",
   "execution_count": 2,
   "id": "366f0d02-3d6f-48a9-ba12-a54af3f9788e",
   "metadata": {},
   "outputs": [],
   "source": [
    "import sqlite3\n",
    "\n",
    "db = sqlite3.connect(f'{directory}/surnames.sqlite3')"
   ]
  },
  {
   "cell_type": "code",
   "execution_count": 3,
   "id": "a6ad8953-41dd-4e8e-822e-904a6c8f8dff",
   "metadata": {},
   "outputs": [
    {
     "data": {
      "text/html": [
       "<div>\n",
       "<style scoped>\n",
       "    .dataframe tbody tr th:only-of-type {\n",
       "        vertical-align: middle;\n",
       "    }\n",
       "\n",
       "    .dataframe tbody tr th {\n",
       "        vertical-align: top;\n",
       "    }\n",
       "\n",
       "    .dataframe thead th {\n",
       "        text-align: right;\n",
       "    }\n",
       "</style>\n",
       "<table border=\"1\" class=\"dataframe\">\n",
       "  <thead>\n",
       "    <tr style=\"text-align: right;\">\n",
       "      <th></th>\n",
       "      <th>surname</th>\n",
       "      <th>name</th>\n",
       "      <th>cm</th>\n",
       "      <th>url</th>\n",
       "    </tr>\n",
       "  </thead>\n",
       "  <tbody>\n",
       "    <tr>\n",
       "      <th>0</th>\n",
       "      <td>Стемковський</td>\n",
       "      <td>Владислав Стемковський</td>\n",
       "      <td>108.0</td>\n",
       "      <td>https://www.myheritage.com.ua/dna/match/D-303A...</td>\n",
       "    </tr>\n",
       "    <tr>\n",
       "      <th>1</th>\n",
       "      <td>Стемпковський</td>\n",
       "      <td>Владислав Стемковський</td>\n",
       "      <td>108.0</td>\n",
       "      <td>https://www.myheritage.com.ua/dna/match/D-303A...</td>\n",
       "    </tr>\n",
       "    <tr>\n",
       "      <th>2</th>\n",
       "      <td>Шмигелюк</td>\n",
       "      <td>Oleksandr Shmyheliuk</td>\n",
       "      <td>55.1</td>\n",
       "      <td>https://www.myheritage.com.ua/dna/match/D-3DE6...</td>\n",
       "    </tr>\n",
       "    <tr>\n",
       "      <th>3</th>\n",
       "      <td>Вовкодав</td>\n",
       "      <td>Надія Коваленко</td>\n",
       "      <td>50.5</td>\n",
       "      <td>https://www.myheritage.com.ua/dna/match/D-3DE6...</td>\n",
       "    </tr>\n",
       "    <tr>\n",
       "      <th>4</th>\n",
       "      <td>Захарченко</td>\n",
       "      <td>Надія Коваленко</td>\n",
       "      <td>50.5</td>\n",
       "      <td>https://www.myheritage.com.ua/dna/match/D-3DE6...</td>\n",
       "    </tr>\n",
       "    <tr>\n",
       "      <th>...</th>\n",
       "      <td>...</td>\n",
       "      <td>...</td>\n",
       "      <td>...</td>\n",
       "      <td>...</td>\n",
       "    </tr>\n",
       "    <tr>\n",
       "      <th>128</th>\n",
       "      <td>Міхно</td>\n",
       "      <td>Oleksandra Fedosova</td>\n",
       "      <td>25.3</td>\n",
       "      <td>https://www.myheritage.com.ua/dna/match/D-3DE6...</td>\n",
       "    </tr>\n",
       "    <tr>\n",
       "      <th>129</th>\n",
       "      <td>Пточщук</td>\n",
       "      <td>Владимир Сопронюк</td>\n",
       "      <td>25.1</td>\n",
       "      <td>https://www.myheritage.com.ua/dna/match/D-3DE6...</td>\n",
       "    </tr>\n",
       "    <tr>\n",
       "      <th>130</th>\n",
       "      <td>Сопронюк</td>\n",
       "      <td>Владимир Сопронюк</td>\n",
       "      <td>25.1</td>\n",
       "      <td>https://www.myheritage.com.ua/dna/match/D-3DE6...</td>\n",
       "    </tr>\n",
       "    <tr>\n",
       "      <th>131</th>\n",
       "      <td>Дмитрук</td>\n",
       "      <td>Elvira Melmann</td>\n",
       "      <td>24.9</td>\n",
       "      <td>https://www.myheritage.com.ua/dna/match/D-3DE6...</td>\n",
       "    </tr>\n",
       "    <tr>\n",
       "      <th>132</th>\n",
       "      <td>Бак</td>\n",
       "      <td>Elvira Melmann</td>\n",
       "      <td>24.9</td>\n",
       "      <td>https://www.myheritage.com.ua/dna/match/D-3DE6...</td>\n",
       "    </tr>\n",
       "  </tbody>\n",
       "</table>\n",
       "<p>133 rows × 4 columns</p>\n",
       "</div>"
      ],
      "text/plain": [
       "           surname                    name     cm  \\\n",
       "0     Стемковський  Владислав Стемковський  108.0   \n",
       "1    Стемпковський  Владислав Стемковський  108.0   \n",
       "2         Шмигелюк    Oleksandr Shmyheliuk   55.1   \n",
       "3         Вовкодав         Надія Коваленко   50.5   \n",
       "4       Захарченко         Надія Коваленко   50.5   \n",
       "..             ...                     ...    ...   \n",
       "128          Міхно     Oleksandra Fedosova   25.3   \n",
       "129        Пточщук       Владимир Сопронюк   25.1   \n",
       "130       Сопронюк       Владимир Сопронюк   25.1   \n",
       "131        Дмитрук          Elvira Melmann   24.9   \n",
       "132            Бак          Elvira Melmann   24.9   \n",
       "\n",
       "                                                   url  \n",
       "0    https://www.myheritage.com.ua/dna/match/D-303A...  \n",
       "1    https://www.myheritage.com.ua/dna/match/D-303A...  \n",
       "2    https://www.myheritage.com.ua/dna/match/D-3DE6...  \n",
       "3    https://www.myheritage.com.ua/dna/match/D-3DE6...  \n",
       "4    https://www.myheritage.com.ua/dna/match/D-3DE6...  \n",
       "..                                                 ...  \n",
       "128  https://www.myheritage.com.ua/dna/match/D-3DE6...  \n",
       "129  https://www.myheritage.com.ua/dna/match/D-3DE6...  \n",
       "130  https://www.myheritage.com.ua/dna/match/D-3DE6...  \n",
       "131  https://www.myheritage.com.ua/dna/match/D-3DE6...  \n",
       "132  https://www.myheritage.com.ua/dna/match/D-3DE6...  \n",
       "\n",
       "[133 rows x 4 columns]"
      ]
     },
     "execution_count": 3,
     "metadata": {},
     "output_type": "execute_result"
    }
   ],
   "source": [
    "import pandas as pd\n",
    "matches_df = pd.read_csv(f'{directory}/{filename}.csv')\n",
    "matches_df"
   ]
  },
  {
   "cell_type": "markdown",
   "id": "f2423e10-79e9-4aff-a114-40d5300e02bf",
   "metadata": {},
   "source": [
    "# Підготовка таблиць"
   ]
  },
  {
   "cell_type": "code",
   "execution_count": 4,
   "id": "d00bba2f-5410-4912-bd56-067fd2321134",
   "metadata": {},
   "outputs": [],
   "source": [
    "table_distribution = \"distribution\"\n",
    "\n",
    "cursor = db.cursor()\n"
   ]
  },
  {
   "cell_type": "code",
   "execution_count": 5,
   "id": "2f3b4b27-1da1-4ad2-b810-04188bf40873",
   "metadata": {},
   "outputs": [
    {
     "data": {
      "text/plain": [
       "<sqlite3.Cursor at 0x758f704f5ab0>"
      ]
     },
     "execution_count": 5,
     "metadata": {},
     "output_type": "execute_result"
    }
   ],
   "source": [
    "cursor.execute(f'DROP TABLE IF EXISTS {table_distribution}')\n",
    "cursor.execute(\n",
    "    f'''\n",
    "    CREATE TABLE {table_distribution} (\n",
    "    \t\"county\"\tINT NOT NULL,\n",
    "        \"surname\"   TEXT NOT NULL,\n",
    "        \"cnt\" INT NOT NULL,\n",
    "        \"score\"\t    REAL NOT NULL\n",
    "    )\n",
    "    '''\n",
    ")"
   ]
  },
  {
   "cell_type": "code",
   "execution_count": 6,
   "id": "dfe31c52-3d45-4a78-9773-fcb37ffeb081",
   "metadata": {},
   "outputs": [],
   "source": [
    "db.commit()"
   ]
  },
  {
   "cell_type": "markdown",
   "id": "9118a1d8-2e78-49fb-a92b-51c7e79db1c8",
   "metadata": {},
   "source": [
    "# Обробка прізвищ"
   ]
  },
  {
   "cell_type": "code",
   "execution_count": 7,
   "id": "4ddea6d7-7a76-4c49-98bc-e6e1d774a669",
   "metadata": {},
   "outputs": [
    {
     "name": "stdout",
     "output_type": "stream",
     "text": [
      "Владислав Стемковський\n",
      "Владислав Стемковський\n",
      "Oleksandr Shmyheliuk\n",
      "Надія Коваленко\n",
      "Надія Коваленко\n",
      "Надія Коваленко\n",
      "Anna stefanidis\n",
      "Anna stefanidis\n",
      "Anna stefanidis\n",
      "Bohdana Humen\n",
      "Інна Сидорук\n",
      "Інна Сидорук\n",
      "Інна Сидорук\n",
      "Hurtov Oleksii\n",
      "Hurtov Oleksii\n",
      "Camilla Strand\n",
      "Camilla Strand\n",
      "Іван Афанасійович Олійник\n",
      "Іван Афанасійович Олійник\n",
      "Іван Афанасійович Олійник\n",
      "Іванна Романівна Бузниковата\n",
      "Viktoriya Petriv\n",
      "Viktoriya Petriv\n",
      "Viktoriya Petriv\n",
      "Viktoriya Petriv\n",
      "Viktoriya Petriv\n",
      "Viktoriya Petriv\n",
      "Viktoriya Petriv\n",
      "Seklita Furdik\n",
      "Seklita Furdik\n",
      "Tetyana Romanyuk\n",
      "Tetyana Romanyuk\n",
      "Tetyana Romanyuk\n",
      "Tetyana Romanyuk\n",
      "Tetyana Romanyuk\n",
      "Natallia Vavilonskaya\n",
      "Natallia Vavilonskaya\n",
      "Yana Butsko\n",
      "Yana Butsko\n",
      "Yana Butsko\n",
      "Віталій Тимчишин\n",
      "Віталій Тимчишин\n",
      "Віталій Тимчишин\n",
      "Віталій Тимчишин\n",
      "Sofiya Urina\n",
      "Sofiya Urina\n",
      "Sofiya Urina\n",
      "Sofiya Urina\n",
      "Taras Kvasniuk\n",
      "Іван Міщук\n",
      "Олена Гетман\n",
      "Олена Гетман\n",
      "Mychailo Piwtorackyj\n",
      "Mychailo Piwtorackyj\n",
      "Mykola Yakonski\n",
      "Mykola Yakonski\n",
      "Irene Chodakowski\n",
      "Irene Chodakowski\n",
      "Yuliia Lukiianchuk\n",
      "Valeri V\n",
      "Beniamin Samuel szuba\n",
      "Beniamin Samuel szuba\n",
      "Alexander Benko\n",
      "Alexander Benko\n",
      "Kateryna Khomytska\n",
      "Kateryna Khomytska\n",
      "Anastasia Denisenko\n",
      "Anastasia Denisenko\n",
      "Natalia Veselova\n",
      "Natalia Veselova\n",
      "Stanislav Maslovskiy\n",
      "Софія Моцик\n",
      "Софія Моцик\n",
      "Наталья Мороз\n",
      "Наталья Мороз\n",
      "Janusz Rydzewski\n",
      "Nikolay Sivets\n",
      "Veniamin Nahornyi\n",
      "Veniamin Nahornyi\n",
      "Кирило Журавель\n",
      "Кирило Журавель\n",
      "Sebastian Mielcarzewicz\n",
      "Karsten Slawik\n",
      "Sofiia Chepak\n",
      "Anastasia Rafaliuk\n",
      "Anastasia Rafaliuk\n",
      "Marie Lis\n",
      "Pavel Chumak\n",
      "Pavel Chumak\n",
      "Artem Kuznietsov\n",
      "Artem Kuznietsov\n",
      "Наталья Ивановна Будзишена\n",
      "Yuliya Muzychenka\n",
      "Yuliya Muzychenka\n",
      "Jan Marcin Marczuk\n",
      "Тетяна Челяда\n",
      "Тетяна Челяда\n",
      "Станислав Бабердин\n",
      "Станислав Бабердин\n",
      "Яна Виниченко\n",
      "Володимир Подзізей\n",
      "Володимир Подзізей\n",
      "Володимир Подзізей\n",
      "Oksana Coulson\n",
      "Oksana Coulson\n",
      "Adrian Jarosz\n",
      "Julija Ivanova\n",
      "Pavlo Kravchuk\n",
      "Monika Dyczko\n",
      "Monika Dyczko\n",
      "Тетяна Перев'язко\n",
      "Тетяна Перев'язко\n",
      "Tetyana Stark\n",
      "Tetyana Stark\n",
      "Dennis Stephen BURKEVITCH\n",
      "Artem Osypenko\n",
      "Artem Osypenko\n",
      "Mykola Kuzminskyi\n",
      "Vyacheslav Vishtal\n",
      "Vyacheslav Vishtal\n",
      "Nikita Petrukovich\n",
      "Nikita Petrukovich\n",
      "Yana Boug\n",
      "Yana Boug\n",
      "Tetyana Bargazova\n",
      "Tetyana Bargazova\n",
      "Yuriy Marashchuk\n",
      "Oleksandra Fedosova\n",
      "Oleksandra Fedosova\n",
      "Владимир Сопронюк\n",
      "Владимир Сопронюк\n",
      "Elvira Melmann\n",
      "Elvira Melmann\n",
      "All records processed\n"
     ]
    }
   ],
   "source": [
    "for idx, row in matches_df.iterrows():\n",
    "    # print(row)\n",
    "    surname = row['surname'].upper()\n",
    "    cm = row['cm']\n",
    "    match = row['name']\n",
    "    print(match)\n",
    "\n",
    "    sql = f'''\n",
    "        INSERT INTO {table_distribution}\n",
    "        SELECT\n",
    "        \tP.\"Районнародження\" AS county,\n",
    "            \"{surname}\",\n",
    "        \tCOUNT(*) as cnt,\n",
    "        \t{cm}\n",
    "        FROM People P\n",
    "        WHERE P.\"Прізвищє\" = \"{surname}\"\n",
    "        AND P.\"Стать\" = 1\n",
    "        AND county IS NOT NULL\n",
    "        GROUP BY county\n",
    "        ORDER BY cnt DESC\n",
    "        LIMIT 15\n",
    "    '''\n",
    "\n",
    "    # print(sql)\n",
    "\n",
    "    cursor.execute(sql)\n",
    "    # break\n",
    "    \n",
    "db.commit()\n",
    "\n",
    "print(\"All records processed\")\n",
    "    "
   ]
  },
  {
   "cell_type": "markdown",
   "id": "3688aaac-5755-49a6-b21a-67d3ddb3d444",
   "metadata": {},
   "source": [
    "# Створимо результуючий документ"
   ]
  },
  {
   "cell_type": "code",
   "execution_count": 21,
   "id": "d1712957-14a4-435d-af01-46931cbabc73",
   "metadata": {},
   "outputs": [],
   "source": [
    "import xlsxwriter"
   ]
  },
  {
   "cell_type": "code",
   "execution_count": 22,
   "id": "d8e20152-740d-45c0-a24d-ffea393231e4",
   "metadata": {},
   "outputs": [],
   "source": [
    "import os, errno\n",
    "\n",
    "resfile = f'{directory}/{filename}.xlsx'\n",
    "try:\n",
    "    os.remove(filename)\n",
    "except OSError:\n",
    "    pass\n",
    "workbook = xlsxwriter.Workbook(resfile)"
   ]
  },
  {
   "cell_type": "code",
   "execution_count": 23,
   "id": "ad0006fe-33de-45a2-b0b0-332c8045292b",
   "metadata": {},
   "outputs": [],
   "source": [
    "def add_row(ws, rn, content, format = None):\n",
    "    for i, c in enumerate(content):\n",
    "        # print(f\"Write {c} to ({i},{rn})\")\n",
    "        ws.write(rn, i, c, format)"
   ]
  },
  {
   "cell_type": "code",
   "execution_count": 24,
   "id": "f49ce694-4033-439d-8a14-f3be81b9fac5",
   "metadata": {},
   "outputs": [],
   "source": [
    "header_format = workbook.add_format()\n",
    "header_format.set_bold()\n",
    "\n",
    "def add_sheet_sql(name, header, sql, width = None):\n",
    "    worksheet = workbook.add_worksheet(name)\n",
    "    # if width is not None:\n",
    "    #     for w in width:\n",
    "            \n",
    "    add_row(worksheet, 0, header, header_format)\n",
    "    cursor.execute(sql)\n",
    "    for i, row in enumerate(cursor.fetchall()):\n",
    "        add_row(worksheet, i+1, row)\n",
    "\n",
    "    worksheet.autofit()"
   ]
  },
  {
   "cell_type": "code",
   "execution_count": 25,
   "id": "401fd8ad-961d-467c-8ddd-faf575bac092",
   "metadata": {},
   "outputs": [],
   "source": [
    "add_sheet_sql(\"Райони\", [\"Область\", \"Район\", \"Ранг\"], \n",
    "              '''\n",
    "            SELECT\n",
    "            \tIFNULL(r.name, C.region) as region,\n",
    "                IFNULL(c.name, D.county) as county,\n",
    "            \tSUM(score) as score\n",
    "            FROM\n",
    "            \tdistribution D\n",
    "            LEFT JOIN counties C ON D.county = C.id\n",
    "            LEFT JOIN regions R ON c.region = R.id\n",
    "            GROUP BY D.county\n",
    "            ORDER BY score DESC\n",
    "              '''\n",
    "             )"
   ]
  },
  {
   "cell_type": "code",
   "execution_count": 26,
   "id": "e98c61df-fd2c-4f1b-8d9a-1982083399f1",
   "metadata": {},
   "outputs": [
    {
     "ename": "OperationalError",
     "evalue": "no such column: с.region",
     "output_type": "error",
     "traceback": [
      "\u001b[0;31m---------------------------------------------------------------------------\u001b[0m",
      "\u001b[0;31mOperationalError\u001b[0m                          Traceback (most recent call last)",
      "Cell \u001b[0;32mIn[26], line 1\u001b[0m\n\u001b[0;32m----> 1\u001b[0m \u001b[43madd_sheet_sql\u001b[49m\u001b[43m(\u001b[49m\u001b[38;5;124;43m\"\u001b[39;49m\u001b[38;5;124;43mПрізвища\u001b[39;49m\u001b[38;5;124;43m\"\u001b[39;49m\u001b[43m,\u001b[49m\u001b[43m \u001b[49m\u001b[43m[\u001b[49m\u001b[38;5;124;43m\"\u001b[39;49m\u001b[38;5;124;43mПрізвище\u001b[39;49m\u001b[38;5;124;43m\"\u001b[39;49m\u001b[43m,\u001b[49m\u001b[43m \u001b[49m\u001b[38;5;124;43m\"\u001b[39;49m\u001b[38;5;124;43mОбласть\u001b[39;49m\u001b[38;5;124;43m\"\u001b[39;49m\u001b[43m,\u001b[49m\u001b[43m \u001b[49m\u001b[38;5;124;43m\"\u001b[39;49m\u001b[38;5;124;43mРайон\u001b[39;49m\u001b[38;5;124;43m\"\u001b[39;49m\u001b[43m,\u001b[49m\u001b[43m \u001b[49m\u001b[38;5;124;43m\"\u001b[39;49m\u001b[38;5;124;43mКількість\u001b[39;49m\u001b[38;5;124;43m\"\u001b[39;49m\u001b[43m,\u001b[49m\u001b[43m \u001b[49m\u001b[38;5;124;43m\"\u001b[39;49m\u001b[38;5;124;43mРанг\u001b[39;49m\u001b[38;5;124;43m\"\u001b[39;49m\u001b[43m]\u001b[49m\u001b[43m,\u001b[49m\u001b[43m \u001b[49m\n\u001b[1;32m      2\u001b[0m \u001b[43m              \u001b[49m\u001b[38;5;124;43mf\u001b[39;49m\u001b[38;5;124;43m'''\u001b[39;49m\n\u001b[1;32m      3\u001b[0m \u001b[38;5;124;43m            SELECT \u001b[39;49m\n\u001b[1;32m      4\u001b[0m \u001b[38;5;124;43m                surname,\u001b[39;49m\n\u001b[1;32m      5\u001b[0m \u001b[38;5;124;43m                IFNULL(r.name, с.region) as region,\u001b[39;49m\n\u001b[1;32m      6\u001b[0m \u001b[38;5;124;43m                IFNULL(c.name, d.county) as county,\u001b[39;49m\n\u001b[1;32m      7\u001b[0m \u001b[38;5;124;43m                cnt,\u001b[39;49m\n\u001b[1;32m      8\u001b[0m \u001b[38;5;124;43m                score\u001b[39;49m\n\u001b[1;32m      9\u001b[0m \u001b[38;5;124;43m            FROM \u001b[39;49m\u001b[38;5;132;43;01m{\u001b[39;49;00m\u001b[43mtable_distribution\u001b[49m\u001b[38;5;132;43;01m}\u001b[39;49;00m\u001b[38;5;124;43m d\u001b[39;49m\n\u001b[1;32m     10\u001b[0m \u001b[38;5;124;43m            LEFT JOIN counties as c ON d.county = c.id\u001b[39;49m\n\u001b[1;32m     11\u001b[0m \u001b[38;5;124;43m            LEFT JOIN regions as r on с.region = r.id\u001b[39;49m\n\u001b[1;32m     12\u001b[0m \u001b[38;5;124;43m            order by d.surname    \u001b[39;49m\n\u001b[1;32m     13\u001b[0m \u001b[38;5;124;43m              \u001b[39;49m\u001b[38;5;124;43m'''\u001b[39;49m\n\u001b[1;32m     14\u001b[0m \u001b[43m             \u001b[49m\u001b[43m)\u001b[49m\n",
      "Cell \u001b[0;32mIn[24], line 10\u001b[0m, in \u001b[0;36madd_sheet_sql\u001b[0;34m(name, header, sql, width)\u001b[0m\n\u001b[1;32m      6\u001b[0m \u001b[38;5;66;03m# if width is not None:\u001b[39;00m\n\u001b[1;32m      7\u001b[0m \u001b[38;5;66;03m#     for w in width:\u001b[39;00m\n\u001b[1;32m      9\u001b[0m add_row(worksheet, \u001b[38;5;241m0\u001b[39m, header, header_format)\n\u001b[0;32m---> 10\u001b[0m \u001b[43mcursor\u001b[49m\u001b[38;5;241;43m.\u001b[39;49m\u001b[43mexecute\u001b[49m\u001b[43m(\u001b[49m\u001b[43msql\u001b[49m\u001b[43m)\u001b[49m\n\u001b[1;32m     11\u001b[0m \u001b[38;5;28;01mfor\u001b[39;00m i, row \u001b[38;5;129;01min\u001b[39;00m \u001b[38;5;28menumerate\u001b[39m(cursor\u001b[38;5;241m.\u001b[39mfetchall()):\n\u001b[1;32m     12\u001b[0m     add_row(worksheet, i\u001b[38;5;241m+\u001b[39m\u001b[38;5;241m1\u001b[39m, row)\n",
      "\u001b[0;31mOperationalError\u001b[0m: no such column: с.region"
     ]
    }
   ],
   "source": [
    "add_sheet_sql(\"Прізвища\", [\"Прізвище\", \"Область\", \"Район\", \"Кількість\", \"Ранг\"], \n",
    "              f'''\n",
    "            SELECT \n",
    "                surname,\n",
    "                IFNULL(r.name, c.region) as region,\n",
    "                IFNULL(c.name, d.county) as county,\n",
    "                cnt,\n",
    "                score\n",
    "            FROM {table_distribution} d\n",
    "            LEFT JOIN counties as c ON d.county = c.id\n",
    "            LEFT JOIN regions as r on c.region = r.id\n",
    "            order by d.surname    \n",
    "              '''\n",
    "             )"
   ]
  },
  {
   "cell_type": "code",
   "execution_count": 27,
   "id": "0f09e737-433f-4451-84a3-83d4add60f5b",
   "metadata": {},
   "outputs": [],
   "source": [
    "workbook.close()"
   ]
  },
  {
   "cell_type": "markdown",
   "id": "5452c40a-d36e-447c-aba5-cf40ed1a6497",
   "metadata": {},
   "source": [
    "# Закрити базу даних"
   ]
  },
  {
   "cell_type": "code",
   "execution_count": 29,
   "id": "369e7385-d9cb-4645-9854-2d9a6e494dfd",
   "metadata": {},
   "outputs": [],
   "source": [
    "db.close()"
   ]
  }
 ],
 "metadata": {
  "kernelspec": {
   "display_name": "Python 3 (ipykernel)",
   "language": "python",
   "name": "python3"
  },
  "language_info": {
   "codemirror_mode": {
    "name": "ipython",
    "version": 3
   },
   "file_extension": ".py",
   "mimetype": "text/x-python",
   "name": "python",
   "nbconvert_exporter": "python",
   "pygments_lexer": "ipython3",
   "version": "3.9.12"
  }
 },
 "nbformat": 4,
 "nbformat_minor": 5
}
